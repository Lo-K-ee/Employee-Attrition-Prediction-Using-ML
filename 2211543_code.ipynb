{
 "cells": [
  {
   "cell_type": "code",
   "execution_count": 1,
   "id": "8707efcb",
   "metadata": {},
   "outputs": [],
   "source": [
    "import numpy as np\n",
    "import pandas as pd\n",
    "from tabulate import tabulate\n",
    "import matplotlib.pyplot as plt\n",
    "import seaborn as sns\n",
    "from sklearn.svm import SVC\n",
    "from sklearn import preprocessing\n",
    "from sklearn.preprocessing import StandardScaler\n",
    "from sklearn.ensemble import AdaBoostClassifier\n",
    "from catboost import CatBoostClassifier\n",
    "from sklearn.ensemble import GradientBoostingClassifier\n",
    "from sklearn.feature_selection import SelectKBest, f_classif\n",
    "import xgboost as xgb\n",
    "from sklearn.linear_model import LogisticRegression\n",
    "from sklearn.tree import DecisionTreeClassifier\n",
    "from sklearn.ensemble import RandomForestClassifier\n",
    "from sklearn.neighbors import KNeighborsClassifier\n",
    "from sklearn.model_selection import cross_val_score, StratifiedKFold, GridSearchCV\n",
    "from sklearn.model_selection import train_test_split\n",
    "from sklearn import metrics\n",
    "from sklearn.metrics import (\n",
    "    accuracy_score,\n",
    "    confusion_matrix,\n",
    "    classification_report,\n",
    "    ConfusionMatrixDisplay,\n",
    "    f1_score,\n",
    "    r2_score,\n",
    "    roc_auc_score, \n",
    "    roc_curve\n",
    ")\n",
    "from imblearn.over_sampling import SMOTE # to balance the dataset\n",
    "from sklearn.datasets import make_classification # to balance the dataset\n",
    "from sklearn.preprocessing import MinMaxScaler # for normalization"
   ]
  },
  {
   "cell_type": "code",
   "execution_count": 2,
   "id": "4e7e6f16",
   "metadata": {},
   "outputs": [
    {
     "name": "stdout",
     "output_type": "stream",
     "text": [
      "(1470, 35)\n"
     ]
    }
   ],
   "source": [
    "#data fetch\n",
    "\n",
    "empdata = pd.read_csv(\"WA_Fn-UseC_-HR-Employee-Attrition.csv\")\n",
    "\n",
    "#data copy \n",
    "\n",
    "empcpy = empdata.copy()\n",
    "print(empcpy.shape)"
   ]
  },
  {
   "cell_type": "code",
   "execution_count": 3,
   "id": "ab2c187b",
   "metadata": {
    "scrolled": true
   },
   "outputs": [
    {
     "data": {
      "text/html": [
       "<div>\n",
       "<style scoped>\n",
       "    .dataframe tbody tr th:only-of-type {\n",
       "        vertical-align: middle;\n",
       "    }\n",
       "\n",
       "    .dataframe tbody tr th {\n",
       "        vertical-align: top;\n",
       "    }\n",
       "\n",
       "    .dataframe thead th {\n",
       "        text-align: right;\n",
       "    }\n",
       "</style>\n",
       "<table border=\"1\" class=\"dataframe\">\n",
       "  <thead>\n",
       "    <tr style=\"text-align: right;\">\n",
       "      <th></th>\n",
       "      <th>Age</th>\n",
       "      <th>Attrition</th>\n",
       "      <th>BusinessTravel</th>\n",
       "      <th>DailyRate</th>\n",
       "      <th>Department</th>\n",
       "      <th>DistanceFromHome</th>\n",
       "      <th>Education</th>\n",
       "      <th>EducationField</th>\n",
       "      <th>EmployeeCount</th>\n",
       "      <th>EmployeeNumber</th>\n",
       "      <th>...</th>\n",
       "      <th>RelationshipSatisfaction</th>\n",
       "      <th>StandardHours</th>\n",
       "      <th>StockOptionLevel</th>\n",
       "      <th>TotalWorkingYears</th>\n",
       "      <th>TrainingTimesLastYear</th>\n",
       "      <th>WorkLifeBalance</th>\n",
       "      <th>YearsAtCompany</th>\n",
       "      <th>YearsInCurrentRole</th>\n",
       "      <th>YearsSinceLastPromotion</th>\n",
       "      <th>YearsWithCurrManager</th>\n",
       "    </tr>\n",
       "  </thead>\n",
       "  <tbody>\n",
       "    <tr>\n",
       "      <th>0</th>\n",
       "      <td>41</td>\n",
       "      <td>Yes</td>\n",
       "      <td>Travel_Rarely</td>\n",
       "      <td>1102</td>\n",
       "      <td>Sales</td>\n",
       "      <td>1</td>\n",
       "      <td>2</td>\n",
       "      <td>Life Sciences</td>\n",
       "      <td>1</td>\n",
       "      <td>1</td>\n",
       "      <td>...</td>\n",
       "      <td>1</td>\n",
       "      <td>80</td>\n",
       "      <td>0</td>\n",
       "      <td>8</td>\n",
       "      <td>0</td>\n",
       "      <td>1</td>\n",
       "      <td>6</td>\n",
       "      <td>4</td>\n",
       "      <td>0</td>\n",
       "      <td>5</td>\n",
       "    </tr>\n",
       "    <tr>\n",
       "      <th>1</th>\n",
       "      <td>49</td>\n",
       "      <td>No</td>\n",
       "      <td>Travel_Frequently</td>\n",
       "      <td>279</td>\n",
       "      <td>Research &amp; Development</td>\n",
       "      <td>8</td>\n",
       "      <td>1</td>\n",
       "      <td>Life Sciences</td>\n",
       "      <td>1</td>\n",
       "      <td>2</td>\n",
       "      <td>...</td>\n",
       "      <td>4</td>\n",
       "      <td>80</td>\n",
       "      <td>1</td>\n",
       "      <td>10</td>\n",
       "      <td>3</td>\n",
       "      <td>3</td>\n",
       "      <td>10</td>\n",
       "      <td>7</td>\n",
       "      <td>1</td>\n",
       "      <td>7</td>\n",
       "    </tr>\n",
       "    <tr>\n",
       "      <th>2</th>\n",
       "      <td>37</td>\n",
       "      <td>Yes</td>\n",
       "      <td>Travel_Rarely</td>\n",
       "      <td>1373</td>\n",
       "      <td>Research &amp; Development</td>\n",
       "      <td>2</td>\n",
       "      <td>2</td>\n",
       "      <td>Other</td>\n",
       "      <td>1</td>\n",
       "      <td>4</td>\n",
       "      <td>...</td>\n",
       "      <td>2</td>\n",
       "      <td>80</td>\n",
       "      <td>0</td>\n",
       "      <td>7</td>\n",
       "      <td>3</td>\n",
       "      <td>3</td>\n",
       "      <td>0</td>\n",
       "      <td>0</td>\n",
       "      <td>0</td>\n",
       "      <td>0</td>\n",
       "    </tr>\n",
       "    <tr>\n",
       "      <th>3</th>\n",
       "      <td>33</td>\n",
       "      <td>No</td>\n",
       "      <td>Travel_Frequently</td>\n",
       "      <td>1392</td>\n",
       "      <td>Research &amp; Development</td>\n",
       "      <td>3</td>\n",
       "      <td>4</td>\n",
       "      <td>Life Sciences</td>\n",
       "      <td>1</td>\n",
       "      <td>5</td>\n",
       "      <td>...</td>\n",
       "      <td>3</td>\n",
       "      <td>80</td>\n",
       "      <td>0</td>\n",
       "      <td>8</td>\n",
       "      <td>3</td>\n",
       "      <td>3</td>\n",
       "      <td>8</td>\n",
       "      <td>7</td>\n",
       "      <td>3</td>\n",
       "      <td>0</td>\n",
       "    </tr>\n",
       "    <tr>\n",
       "      <th>4</th>\n",
       "      <td>27</td>\n",
       "      <td>No</td>\n",
       "      <td>Travel_Rarely</td>\n",
       "      <td>591</td>\n",
       "      <td>Research &amp; Development</td>\n",
       "      <td>2</td>\n",
       "      <td>1</td>\n",
       "      <td>Medical</td>\n",
       "      <td>1</td>\n",
       "      <td>7</td>\n",
       "      <td>...</td>\n",
       "      <td>4</td>\n",
       "      <td>80</td>\n",
       "      <td>1</td>\n",
       "      <td>6</td>\n",
       "      <td>3</td>\n",
       "      <td>3</td>\n",
       "      <td>2</td>\n",
       "      <td>2</td>\n",
       "      <td>2</td>\n",
       "      <td>2</td>\n",
       "    </tr>\n",
       "  </tbody>\n",
       "</table>\n",
       "<p>5 rows × 35 columns</p>\n",
       "</div>"
      ],
      "text/plain": [
       "   Age Attrition     BusinessTravel  DailyRate              Department  \\\n",
       "0   41       Yes      Travel_Rarely       1102                   Sales   \n",
       "1   49        No  Travel_Frequently        279  Research & Development   \n",
       "2   37       Yes      Travel_Rarely       1373  Research & Development   \n",
       "3   33        No  Travel_Frequently       1392  Research & Development   \n",
       "4   27        No      Travel_Rarely        591  Research & Development   \n",
       "\n",
       "   DistanceFromHome  Education EducationField  EmployeeCount  EmployeeNumber  \\\n",
       "0                 1          2  Life Sciences              1               1   \n",
       "1                 8          1  Life Sciences              1               2   \n",
       "2                 2          2          Other              1               4   \n",
       "3                 3          4  Life Sciences              1               5   \n",
       "4                 2          1        Medical              1               7   \n",
       "\n",
       "   ...  RelationshipSatisfaction StandardHours  StockOptionLevel  \\\n",
       "0  ...                         1            80                 0   \n",
       "1  ...                         4            80                 1   \n",
       "2  ...                         2            80                 0   \n",
       "3  ...                         3            80                 0   \n",
       "4  ...                         4            80                 1   \n",
       "\n",
       "   TotalWorkingYears  TrainingTimesLastYear WorkLifeBalance  YearsAtCompany  \\\n",
       "0                  8                      0               1               6   \n",
       "1                 10                      3               3              10   \n",
       "2                  7                      3               3               0   \n",
       "3                  8                      3               3               8   \n",
       "4                  6                      3               3               2   \n",
       "\n",
       "  YearsInCurrentRole  YearsSinceLastPromotion  YearsWithCurrManager  \n",
       "0                  4                        0                     5  \n",
       "1                  7                        1                     7  \n",
       "2                  0                        0                     0  \n",
       "3                  7                        3                     0  \n",
       "4                  2                        2                     2  \n",
       "\n",
       "[5 rows x 35 columns]"
      ]
     },
     "execution_count": 3,
     "metadata": {},
     "output_type": "execute_result"
    }
   ],
   "source": [
    "# printing first 5 records\n",
    "empcpy.head()"
   ]
  },
  {
   "cell_type": "code",
   "execution_count": 4,
   "id": "874048ca",
   "metadata": {},
   "outputs": [
    {
     "data": {
      "text/plain": [
       "No     1233\n",
       "Yes     237\n",
       "Name: Attrition, dtype: int64"
      ]
     },
     "execution_count": 4,
     "metadata": {},
     "output_type": "execute_result"
    }
   ],
   "source": [
    "# checking the attrition rate\n",
    "empcpy['Attrition'].value_counts()"
   ]
  },
  {
   "cell_type": "code",
   "execution_count": 5,
   "id": "b1ca4eb4",
   "metadata": {
    "scrolled": false
   },
   "outputs": [
    {
     "data": {
      "text/plain": [
       "Age                         0\n",
       "Attrition                   0\n",
       "BusinessTravel              0\n",
       "DailyRate                   0\n",
       "Department                  0\n",
       "DistanceFromHome            0\n",
       "Education                   0\n",
       "EducationField              0\n",
       "EmployeeCount               0\n",
       "EmployeeNumber              0\n",
       "EnvironmentSatisfaction     0\n",
       "Gender                      0\n",
       "HourlyRate                  0\n",
       "JobInvolvement              0\n",
       "JobLevel                    0\n",
       "JobRole                     0\n",
       "JobSatisfaction             0\n",
       "MaritalStatus               0\n",
       "MonthlyIncome               0\n",
       "MonthlyRate                 0\n",
       "NumCompaniesWorked          0\n",
       "Over18                      0\n",
       "OverTime                    0\n",
       "PercentSalaryHike           0\n",
       "PerformanceRating           0\n",
       "RelationshipSatisfaction    0\n",
       "StandardHours               0\n",
       "StockOptionLevel            0\n",
       "TotalWorkingYears           0\n",
       "TrainingTimesLastYear       0\n",
       "WorkLifeBalance             0\n",
       "YearsAtCompany              0\n",
       "YearsInCurrentRole          0\n",
       "YearsSinceLastPromotion     0\n",
       "YearsWithCurrManager        0\n",
       "dtype: int64"
      ]
     },
     "execution_count": 5,
     "metadata": {},
     "output_type": "execute_result"
    }
   ],
   "source": [
    "# checking the missing values\n",
    "empcpy.isnull().sum()"
   ]
  },
  {
   "cell_type": "code",
   "execution_count": 6,
   "id": "51b24811",
   "metadata": {
    "scrolled": false
   },
   "outputs": [
    {
     "name": "stdout",
     "output_type": "stream",
     "text": [
      "<class 'pandas.core.frame.DataFrame'>\n",
      "RangeIndex: 1470 entries, 0 to 1469\n",
      "Data columns (total 35 columns):\n",
      " #   Column                    Non-Null Count  Dtype \n",
      "---  ------                    --------------  ----- \n",
      " 0   Age                       1470 non-null   int64 \n",
      " 1   Attrition                 1470 non-null   object\n",
      " 2   BusinessTravel            1470 non-null   object\n",
      " 3   DailyRate                 1470 non-null   int64 \n",
      " 4   Department                1470 non-null   object\n",
      " 5   DistanceFromHome          1470 non-null   int64 \n",
      " 6   Education                 1470 non-null   int64 \n",
      " 7   EducationField            1470 non-null   object\n",
      " 8   EmployeeCount             1470 non-null   int64 \n",
      " 9   EmployeeNumber            1470 non-null   int64 \n",
      " 10  EnvironmentSatisfaction   1470 non-null   int64 \n",
      " 11  Gender                    1470 non-null   object\n",
      " 12  HourlyRate                1470 non-null   int64 \n",
      " 13  JobInvolvement            1470 non-null   int64 \n",
      " 14  JobLevel                  1470 non-null   int64 \n",
      " 15  JobRole                   1470 non-null   object\n",
      " 16  JobSatisfaction           1470 non-null   int64 \n",
      " 17  MaritalStatus             1470 non-null   object\n",
      " 18  MonthlyIncome             1470 non-null   int64 \n",
      " 19  MonthlyRate               1470 non-null   int64 \n",
      " 20  NumCompaniesWorked        1470 non-null   int64 \n",
      " 21  Over18                    1470 non-null   object\n",
      " 22  OverTime                  1470 non-null   object\n",
      " 23  PercentSalaryHike         1470 non-null   int64 \n",
      " 24  PerformanceRating         1470 non-null   int64 \n",
      " 25  RelationshipSatisfaction  1470 non-null   int64 \n",
      " 26  StandardHours             1470 non-null   int64 \n",
      " 27  StockOptionLevel          1470 non-null   int64 \n",
      " 28  TotalWorkingYears         1470 non-null   int64 \n",
      " 29  TrainingTimesLastYear     1470 non-null   int64 \n",
      " 30  WorkLifeBalance           1470 non-null   int64 \n",
      " 31  YearsAtCompany            1470 non-null   int64 \n",
      " 32  YearsInCurrentRole        1470 non-null   int64 \n",
      " 33  YearsSinceLastPromotion   1470 non-null   int64 \n",
      " 34  YearsWithCurrManager      1470 non-null   int64 \n",
      "dtypes: int64(26), object(9)\n",
      "memory usage: 402.1+ KB\n"
     ]
    }
   ],
   "source": [
    "#checking the datatype of all the features\n",
    "empcpy.info()"
   ]
  },
  {
   "cell_type": "code",
   "execution_count": null,
   "id": "cf1af036",
   "metadata": {},
   "outputs": [],
   "source": []
  },
  {
   "cell_type": "code",
   "execution_count": null,
   "id": "88e57936",
   "metadata": {},
   "outputs": [],
   "source": []
  },
  {
   "cell_type": "code",
   "execution_count": 7,
   "id": "d8e26540",
   "metadata": {},
   "outputs": [
    {
     "data": {
      "text/plain": [
       "Attrition         object\n",
       "BusinessTravel    object\n",
       "Department        object\n",
       "EducationField    object\n",
       "Gender            object\n",
       "JobRole           object\n",
       "MaritalStatus     object\n",
       "Over18            object\n",
       "OverTime          object\n",
       "dtype: object"
      ]
     },
     "execution_count": 7,
     "metadata": {},
     "output_type": "execute_result"
    }
   ],
   "source": [
    "# filtering the categorical variables\n",
    "empcpy.select_dtypes(include=['object']).dtypes"
   ]
  },
  {
   "cell_type": "code",
   "execution_count": 8,
   "id": "2382761d",
   "metadata": {},
   "outputs": [],
   "source": [
    "# encoding the column attrition and overtime manually\n",
    "empcpy['Attrition'] = empcpy['Attrition'].factorize(['No','Yes'])[0]\n",
    "\n",
    "# Attrition: No = 0; Yes = 1\n",
    "\n",
    "empcpy['OverTime'] = empcpy['OverTime'].factorize(['No','Yes'])[0]\n",
    "\n",
    "#OverTime: No = 0; Yes = 1"
   ]
  },
  {
   "cell_type": "code",
   "execution_count": 9,
   "id": "31039310",
   "metadata": {},
   "outputs": [
    {
     "data": {
      "text/plain": [
       "BusinessTravel    object\n",
       "Department        object\n",
       "EducationField    object\n",
       "Gender            object\n",
       "JobRole           object\n",
       "MaritalStatus     object\n",
       "Over18            object\n",
       "dtype: object"
      ]
     },
     "execution_count": 9,
     "metadata": {},
     "output_type": "execute_result"
    }
   ],
   "source": [
    "# remaining categorical features\n",
    "empcpy.select_dtypes(include=['object']).dtypes"
   ]
  },
  {
   "cell_type": "code",
   "execution_count": null,
   "id": "f03253c6",
   "metadata": {},
   "outputs": [],
   "source": []
  },
  {
   "cell_type": "code",
   "execution_count": 10,
   "id": "2cd566be",
   "metadata": {},
   "outputs": [
    {
     "name": "stdout",
     "output_type": "stream",
     "text": [
      "<class 'pandas.core.frame.DataFrame'>\n",
      "RangeIndex: 1470 entries, 0 to 1469\n",
      "Data columns (total 35 columns):\n",
      " #   Column                    Non-Null Count  Dtype \n",
      "---  ------                    --------------  ----- \n",
      " 0   Age                       1470 non-null   int64 \n",
      " 1   Attrition                 1470 non-null   int64 \n",
      " 2   BusinessTravel            1470 non-null   object\n",
      " 3   DailyRate                 1470 non-null   int64 \n",
      " 4   Department                1470 non-null   object\n",
      " 5   DistanceFromHome          1470 non-null   int64 \n",
      " 6   Education                 1470 non-null   int64 \n",
      " 7   EducationField            1470 non-null   object\n",
      " 8   EmployeeCount             1470 non-null   int64 \n",
      " 9   EmployeeNumber            1470 non-null   int64 \n",
      " 10  EnvironmentSatisfaction   1470 non-null   int64 \n",
      " 11  Gender                    1470 non-null   object\n",
      " 12  HourlyRate                1470 non-null   int64 \n",
      " 13  JobInvolvement            1470 non-null   int64 \n",
      " 14  JobLevel                  1470 non-null   int64 \n",
      " 15  JobRole                   1470 non-null   object\n",
      " 16  JobSatisfaction           1470 non-null   int64 \n",
      " 17  MaritalStatus             1470 non-null   object\n",
      " 18  MonthlyIncome             1470 non-null   int64 \n",
      " 19  MonthlyRate               1470 non-null   int64 \n",
      " 20  NumCompaniesWorked        1470 non-null   int64 \n",
      " 21  Over18                    1470 non-null   object\n",
      " 22  OverTime                  1470 non-null   int64 \n",
      " 23  PercentSalaryHike         1470 non-null   int64 \n",
      " 24  PerformanceRating         1470 non-null   int64 \n",
      " 25  RelationshipSatisfaction  1470 non-null   int64 \n",
      " 26  StandardHours             1470 non-null   int64 \n",
      " 27  StockOptionLevel          1470 non-null   int64 \n",
      " 28  TotalWorkingYears         1470 non-null   int64 \n",
      " 29  TrainingTimesLastYear     1470 non-null   int64 \n",
      " 30  WorkLifeBalance           1470 non-null   int64 \n",
      " 31  YearsAtCompany            1470 non-null   int64 \n",
      " 32  YearsInCurrentRole        1470 non-null   int64 \n",
      " 33  YearsSinceLastPromotion   1470 non-null   int64 \n",
      " 34  YearsWithCurrManager      1470 non-null   int64 \n",
      "dtypes: int64(28), object(7)\n",
      "memory usage: 402.1+ KB\n"
     ]
    }
   ],
   "source": [
    "# FEATURE IMPORTANCE\n",
    "\n",
    "# Copying the empcpy to feat_evaldb to analyse the feature importance\n",
    "feat_evaldb = empcpy.copy()\n",
    "feat_evaldb.info()"
   ]
  },
  {
   "cell_type": "code",
   "execution_count": 11,
   "id": "3d572423",
   "metadata": {
    "scrolled": true
   },
   "outputs": [
    {
     "data": {
      "text/plain": [
       "0       2\n",
       "1       1\n",
       "2       2\n",
       "3       1\n",
       "4       2\n",
       "       ..\n",
       "1465    1\n",
       "1466    2\n",
       "1467    2\n",
       "1468    1\n",
       "1469    2\n",
       "Name: BusinessTravel, Length: 1470, dtype: int32"
      ]
     },
     "metadata": {},
     "output_type": "display_data"
    }
   ],
   "source": [
    "# encoding all other categorical variables \n",
    "\n",
    "feat_evaldb['Department'] = preprocessing.LabelEncoder().fit_transform(feat_evaldb['Department'])\n",
    "feat_evaldb['Gender'] = preprocessing.LabelEncoder().fit_transform(feat_evaldb['Gender'])\n",
    "feat_evaldb['JobRole'] = preprocessing.LabelEncoder().fit_transform(feat_evaldb['JobRole'])\n",
    "feat_evaldb['MaritalStatus'] = preprocessing.LabelEncoder().fit_transform(feat_evaldb['MaritalStatus'])\n",
    "feat_evaldb['Over18'] = preprocessing.LabelEncoder().fit_transform(feat_evaldb['Over18'])\n",
    "feat_evaldb['BusinessTravel'] = preprocessing.LabelEncoder().fit_transform(feat_evaldb['BusinessTravel'])\n",
    "feat_evaldb['EducationField'] = preprocessing.LabelEncoder().fit_transform(feat_evaldb['EducationField'])\n",
    "\n",
    "display(feat_evaldb['BusinessTravel'])"
   ]
  },
  {
   "cell_type": "code",
   "execution_count": 12,
   "id": "8e72f0bb",
   "metadata": {},
   "outputs": [],
   "source": [
    "# seperating the dependent and independent variables to find the feature importance\n",
    "m = feat_evaldb.drop(columns=['Attrition'])\n",
    "n = feat_evaldb['Attrition']"
   ]
  },
  {
   "cell_type": "code",
   "execution_count": 13,
   "id": "20bff73a",
   "metadata": {},
   "outputs": [
    {
     "name": "stdout",
     "output_type": "stream",
     "text": [
      "+----+----------------------+--------------+\n",
      "|    | Feature              |   Importance |\n",
      "+====+======================+==============+\n",
      "| 21 | OverTime             |      94.6565 |\n",
      "+----+----------------------+--------------+\n",
      "| 27 | TotalWorkingYears    |      44.2525 |\n",
      "+----+----------------------+--------------+\n",
      "| 13 | JobLevel             |      43.2153 |\n",
      "+----+----------------------+--------------+\n",
      "| 16 | MaritalStatus        |      39.5998 |\n",
      "+----+----------------------+--------------+\n",
      "| 31 | YearsInCurrentRole   |      38.8383 |\n",
      "+----+----------------------+--------------+\n",
      "| 17 | MonthlyIncome        |      38.4888 |\n",
      "+----+----------------------+--------------+\n",
      "|  0 | Age                  |      38.1759 |\n",
      "+----+----------------------+--------------+\n",
      "| 33 | YearsWithCurrManager |      36.7123 |\n",
      "+----+----------------------+--------------+\n",
      "| 26 | StockOptionLevel     |      28.1405 |\n",
      "+----+----------------------+--------------+\n",
      "| 30 | YearsAtCompany       |      27.0016 |\n",
      "+----+----------------------+--------------+\n"
     ]
    },
    {
     "name": "stderr",
     "output_type": "stream",
     "text": [
      "C:\\Users\\LoKee\\anaconda3\\lib\\site-packages\\sklearn\\feature_selection\\_univariate_selection.py:112: UserWarning: Features [ 7 20 25] are constant.\n",
      "  warnings.warn(\"Features %s are constant.\" % constant_features_idx, UserWarning)\n",
      "C:\\Users\\LoKee\\anaconda3\\lib\\site-packages\\sklearn\\feature_selection\\_univariate_selection.py:113: RuntimeWarning: invalid value encountered in divide\n",
      "  f = msb / msw\n"
     ]
    }
   ],
   "source": [
    "#checking the first 10 feature importance using SelectKBest\n",
    "\n",
    "selector = SelectKBest(score_func=f_classif, k=10)\n",
    "m_selected = selector.fit_transform(m, n)\n",
    "selected_features = m.columns[selector.get_support()]\n",
    "\n",
    "# printing the importance value of the first 10 features\n",
    "feature_importances = pd.DataFrame({'Feature': m.columns, 'Importance': selector.scores_})\n",
    "feature_importances = feature_importances.sort_values(by='Importance', ascending=False)\n",
    "\n",
    "grid_table = tabulate(feature_importances[feature_importances['Feature'].isin(selected_features)],\n",
    "                      headers='keys', tablefmt='grid')\n",
    "print(grid_table)\n"
   ]
  },
  {
   "cell_type": "code",
   "execution_count": null,
   "id": "f26380e7",
   "metadata": {},
   "outputs": [],
   "source": []
  },
  {
   "cell_type": "code",
   "execution_count": null,
   "id": "9a04fee4",
   "metadata": {},
   "outputs": [],
   "source": []
  },
  {
   "cell_type": "code",
   "execution_count": null,
   "id": "d21cbbbf",
   "metadata": {},
   "outputs": [],
   "source": []
  },
  {
   "cell_type": "code",
   "execution_count": 14,
   "id": "97dce1a9",
   "metadata": {},
   "outputs": [
    {
     "data": {
      "text/plain": [
       "<AxesSubplot:>"
      ]
     },
     "execution_count": 14,
     "metadata": {},
     "output_type": "execute_result"
    },
    {
     "data": {
      "image/png": "[encoded data removed]",
      "text/plain": [
       "<Figure size 1200x1200 with 2 Axes>"
      ]
     },
     "metadata": {},
     "output_type": "display_data"
    }
   ],
   "source": [
    "# checking the correlation between features using corr()\n",
    "empcpy1 = empcpy.copy()\n",
    "empcpy1 = empcpy1.drop(['EmployeeCount','StandardHours'], axis=1) # dropping these two columns because they only have one value\n",
    "corr = empcpy1.corr()\n",
    "plt.figure(figsize=(12,12))\n",
    "sns.heatmap(corr,cbar=True,square=True,fmt='.1f',annot=True,cmap='Blues')"
   ]
  },
  {
   "cell_type": "code",
   "execution_count": null,
   "id": "17bf9774",
   "metadata": {},
   "outputs": [],
   "source": []
  },
  {
   "cell_type": "code",
   "execution_count": 15,
   "id": "13fe425b",
   "metadata": {},
   "outputs": [
    {
     "data": {
      "image/png": "[encoded data removed]",
      "text/plain": [
       "<Figure size 1500x500 with 1 Axes>"
      ]
     },
     "metadata": {},
     "output_type": "display_data"
    }
   ],
   "source": [
    "# Checking outliers by box plot\n",
    "\n",
    "sns.set(style=\"whitegrid\")\n",
    "fig, axis = plt.subplots(figsize=(15,5)) \n",
    "sns.boxplot(data = empcpy, ax=axis)\n",
    "plt.xticks(rotation=30, ha='right')\n",
    "plt.show()"
   ]
  },
  {
   "cell_type": "code",
   "execution_count": null,
   "id": "c9ade4ce",
   "metadata": {},
   "outputs": [],
   "source": []
  },
  {
   "cell_type": "code",
   "execution_count": 16,
   "id": "a2cc3feb",
   "metadata": {},
   "outputs": [
    {
     "data": {
      "text/html": [
       "<div>\n",
       "<style scoped>\n",
       "    .dataframe tbody tr th:only-of-type {\n",
       "        vertical-align: middle;\n",
       "    }\n",
       "\n",
       "    .dataframe tbody tr th {\n",
       "        vertical-align: top;\n",
       "    }\n",
       "\n",
       "    .dataframe thead th {\n",
       "        text-align: right;\n",
       "    }\n",
       "</style>\n",
       "<table border=\"1\" class=\"dataframe\">\n",
       "  <thead>\n",
       "    <tr style=\"text-align: right;\">\n",
       "      <th></th>\n",
       "      <th>Age</th>\n",
       "      <th>Attrition</th>\n",
       "      <th>DailyRate</th>\n",
       "      <th>DistanceFromHome</th>\n",
       "      <th>Education</th>\n",
       "      <th>EmployeeCount</th>\n",
       "      <th>EmployeeNumber</th>\n",
       "      <th>EnvironmentSatisfaction</th>\n",
       "      <th>HourlyRate</th>\n",
       "      <th>JobInvolvement</th>\n",
       "      <th>...</th>\n",
       "      <th>RelationshipSatisfaction</th>\n",
       "      <th>StandardHours</th>\n",
       "      <th>StockOptionLevel</th>\n",
       "      <th>TotalWorkingYears</th>\n",
       "      <th>TrainingTimesLastYear</th>\n",
       "      <th>WorkLifeBalance</th>\n",
       "      <th>YearsAtCompany</th>\n",
       "      <th>YearsInCurrentRole</th>\n",
       "      <th>YearsSinceLastPromotion</th>\n",
       "      <th>YearsWithCurrManager</th>\n",
       "    </tr>\n",
       "  </thead>\n",
       "  <tbody>\n",
       "    <tr>\n",
       "      <th>count</th>\n",
       "      <td>1470.000000</td>\n",
       "      <td>1470.000000</td>\n",
       "      <td>1470.000000</td>\n",
       "      <td>1470.000000</td>\n",
       "      <td>1470.000000</td>\n",
       "      <td>1470.0</td>\n",
       "      <td>1470.000000</td>\n",
       "      <td>1470.000000</td>\n",
       "      <td>1470.000000</td>\n",
       "      <td>1470.000000</td>\n",
       "      <td>...</td>\n",
       "      <td>1470.000000</td>\n",
       "      <td>1470.0</td>\n",
       "      <td>1470.000000</td>\n",
       "      <td>1470.000000</td>\n",
       "      <td>1470.000000</td>\n",
       "      <td>1470.000000</td>\n",
       "      <td>1470.000000</td>\n",
       "      <td>1470.000000</td>\n",
       "      <td>1470.000000</td>\n",
       "      <td>1470.000000</td>\n",
       "    </tr>\n",
       "    <tr>\n",
       "      <th>mean</th>\n",
       "      <td>36.923810</td>\n",
       "      <td>0.161224</td>\n",
       "      <td>802.485714</td>\n",
       "      <td>9.192517</td>\n",
       "      <td>2.912925</td>\n",
       "      <td>1.0</td>\n",
       "      <td>1024.865306</td>\n",
       "      <td>2.721769</td>\n",
       "      <td>65.891156</td>\n",
       "      <td>2.729932</td>\n",
       "      <td>...</td>\n",
       "      <td>2.712245</td>\n",
       "      <td>80.0</td>\n",
       "      <td>0.793878</td>\n",
       "      <td>11.279592</td>\n",
       "      <td>2.799320</td>\n",
       "      <td>2.761224</td>\n",
       "      <td>7.008163</td>\n",
       "      <td>4.229252</td>\n",
       "      <td>2.187755</td>\n",
       "      <td>4.123129</td>\n",
       "    </tr>\n",
       "    <tr>\n",
       "      <th>std</th>\n",
       "      <td>9.135373</td>\n",
       "      <td>0.367863</td>\n",
       "      <td>403.509100</td>\n",
       "      <td>8.106864</td>\n",
       "      <td>1.024165</td>\n",
       "      <td>0.0</td>\n",
       "      <td>602.024335</td>\n",
       "      <td>1.093082</td>\n",
       "      <td>20.329428</td>\n",
       "      <td>0.711561</td>\n",
       "      <td>...</td>\n",
       "      <td>1.081209</td>\n",
       "      <td>0.0</td>\n",
       "      <td>0.852077</td>\n",
       "      <td>7.780782</td>\n",
       "      <td>1.289271</td>\n",
       "      <td>0.706476</td>\n",
       "      <td>6.126525</td>\n",
       "      <td>3.623137</td>\n",
       "      <td>3.222430</td>\n",
       "      <td>3.568136</td>\n",
       "    </tr>\n",
       "    <tr>\n",
       "      <th>min</th>\n",
       "      <td>18.000000</td>\n",
       "      <td>0.000000</td>\n",
       "      <td>102.000000</td>\n",
       "      <td>1.000000</td>\n",
       "      <td>1.000000</td>\n",
       "      <td>1.0</td>\n",
       "      <td>1.000000</td>\n",
       "      <td>1.000000</td>\n",
       "      <td>30.000000</td>\n",
       "      <td>1.000000</td>\n",
       "      <td>...</td>\n",
       "      <td>1.000000</td>\n",
       "      <td>80.0</td>\n",
       "      <td>0.000000</td>\n",
       "      <td>0.000000</td>\n",
       "      <td>0.000000</td>\n",
       "      <td>1.000000</td>\n",
       "      <td>0.000000</td>\n",
       "      <td>0.000000</td>\n",
       "      <td>0.000000</td>\n",
       "      <td>0.000000</td>\n",
       "    </tr>\n",
       "    <tr>\n",
       "      <th>25%</th>\n",
       "      <td>30.000000</td>\n",
       "      <td>0.000000</td>\n",
       "      <td>465.000000</td>\n",
       "      <td>2.000000</td>\n",
       "      <td>2.000000</td>\n",
       "      <td>1.0</td>\n",
       "      <td>491.250000</td>\n",
       "      <td>2.000000</td>\n",
       "      <td>48.000000</td>\n",
       "      <td>2.000000</td>\n",
       "      <td>...</td>\n",
       "      <td>2.000000</td>\n",
       "      <td>80.0</td>\n",
       "      <td>0.000000</td>\n",
       "      <td>6.000000</td>\n",
       "      <td>2.000000</td>\n",
       "      <td>2.000000</td>\n",
       "      <td>3.000000</td>\n",
       "      <td>2.000000</td>\n",
       "      <td>0.000000</td>\n",
       "      <td>2.000000</td>\n",
       "    </tr>\n",
       "    <tr>\n",
       "      <th>50%</th>\n",
       "      <td>36.000000</td>\n",
       "      <td>0.000000</td>\n",
       "      <td>802.000000</td>\n",
       "      <td>7.000000</td>\n",
       "      <td>3.000000</td>\n",
       "      <td>1.0</td>\n",
       "      <td>1020.500000</td>\n",
       "      <td>3.000000</td>\n",
       "      <td>66.000000</td>\n",
       "      <td>3.000000</td>\n",
       "      <td>...</td>\n",
       "      <td>3.000000</td>\n",
       "      <td>80.0</td>\n",
       "      <td>1.000000</td>\n",
       "      <td>10.000000</td>\n",
       "      <td>3.000000</td>\n",
       "      <td>3.000000</td>\n",
       "      <td>5.000000</td>\n",
       "      <td>3.000000</td>\n",
       "      <td>1.000000</td>\n",
       "      <td>3.000000</td>\n",
       "    </tr>\n",
       "    <tr>\n",
       "      <th>75%</th>\n",
       "      <td>43.000000</td>\n",
       "      <td>0.000000</td>\n",
       "      <td>1157.000000</td>\n",
       "      <td>14.000000</td>\n",
       "      <td>4.000000</td>\n",
       "      <td>1.0</td>\n",
       "      <td>1555.750000</td>\n",
       "      <td>4.000000</td>\n",
       "      <td>83.750000</td>\n",
       "      <td>3.000000</td>\n",
       "      <td>...</td>\n",
       "      <td>4.000000</td>\n",
       "      <td>80.0</td>\n",
       "      <td>1.000000</td>\n",
       "      <td>15.000000</td>\n",
       "      <td>3.000000</td>\n",
       "      <td>3.000000</td>\n",
       "      <td>9.000000</td>\n",
       "      <td>7.000000</td>\n",
       "      <td>3.000000</td>\n",
       "      <td>7.000000</td>\n",
       "    </tr>\n",
       "    <tr>\n",
       "      <th>max</th>\n",
       "      <td>60.000000</td>\n",
       "      <td>1.000000</td>\n",
       "      <td>1499.000000</td>\n",
       "      <td>29.000000</td>\n",
       "      <td>5.000000</td>\n",
       "      <td>1.0</td>\n",
       "      <td>2068.000000</td>\n",
       "      <td>4.000000</td>\n",
       "      <td>100.000000</td>\n",
       "      <td>4.000000</td>\n",
       "      <td>...</td>\n",
       "      <td>4.000000</td>\n",
       "      <td>80.0</td>\n",
       "      <td>3.000000</td>\n",
       "      <td>40.000000</td>\n",
       "      <td>6.000000</td>\n",
       "      <td>4.000000</td>\n",
       "      <td>40.000000</td>\n",
       "      <td>18.000000</td>\n",
       "      <td>15.000000</td>\n",
       "      <td>17.000000</td>\n",
       "    </tr>\n",
       "  </tbody>\n",
       "</table>\n",
       "<p>8 rows × 28 columns</p>\n",
       "</div>"
      ],
      "text/plain": [
       "               Age    Attrition    DailyRate  DistanceFromHome    Education  \\\n",
       "count  1470.000000  1470.000000  1470.000000       1470.000000  1470.000000   \n",
       "mean     36.923810     0.161224   802.485714          9.192517     2.912925   \n",
       "std       9.135373     0.367863   403.509100          8.106864     1.024165   \n",
       "min      18.000000     0.000000   102.000000          1.000000     1.000000   \n",
       "25%      30.000000     0.000000   465.000000          2.000000     2.000000   \n",
       "50%      36.000000     0.000000   802.000000          7.000000     3.000000   \n",
       "75%      43.000000     0.000000  1157.000000         14.000000     4.000000   \n",
       "max      60.000000     1.000000  1499.000000         29.000000     5.000000   \n",
       "\n",
       "       EmployeeCount  EmployeeNumber  EnvironmentSatisfaction   HourlyRate  \\\n",
       "count         1470.0     1470.000000              1470.000000  1470.000000   \n",
       "mean             1.0     1024.865306                 2.721769    65.891156   \n",
       "std              0.0      602.024335                 1.093082    20.329428   \n",
       "min              1.0        1.000000                 1.000000    30.000000   \n",
       "25%              1.0      491.250000                 2.000000    48.000000   \n",
       "50%              1.0     1020.500000                 3.000000    66.000000   \n",
       "75%              1.0     1555.750000                 4.000000    83.750000   \n",
       "max              1.0     2068.000000                 4.000000   100.000000   \n",
       "\n",
       "       JobInvolvement  ...  RelationshipSatisfaction  StandardHours  \\\n",
       "count     1470.000000  ...               1470.000000         1470.0   \n",
       "mean         2.729932  ...                  2.712245           80.0   \n",
       "std          0.711561  ...                  1.081209            0.0   \n",
       "min          1.000000  ...                  1.000000           80.0   \n",
       "25%          2.000000  ...                  2.000000           80.0   \n",
       "50%          3.000000  ...                  3.000000           80.0   \n",
       "75%          3.000000  ...                  4.000000           80.0   \n",
       "max          4.000000  ...                  4.000000           80.0   \n",
       "\n",
       "       StockOptionLevel  TotalWorkingYears  TrainingTimesLastYear  \\\n",
       "count       1470.000000        1470.000000            1470.000000   \n",
       "mean           0.793878          11.279592               2.799320   \n",
       "std            0.852077           7.780782               1.289271   \n",
       "min            0.000000           0.000000               0.000000   \n",
       "25%            0.000000           6.000000               2.000000   \n",
       "50%            1.000000          10.000000               3.000000   \n",
       "75%            1.000000          15.000000               3.000000   \n",
       "max            3.000000          40.000000               6.000000   \n",
       "\n",
       "       WorkLifeBalance  YearsAtCompany  YearsInCurrentRole  \\\n",
       "count      1470.000000     1470.000000         1470.000000   \n",
       "mean          2.761224        7.008163            4.229252   \n",
       "std           0.706476        6.126525            3.623137   \n",
       "min           1.000000        0.000000            0.000000   \n",
       "25%           2.000000        3.000000            2.000000   \n",
       "50%           3.000000        5.000000            3.000000   \n",
       "75%           3.000000        9.000000            7.000000   \n",
       "max           4.000000       40.000000           18.000000   \n",
       "\n",
       "       YearsSinceLastPromotion  YearsWithCurrManager  \n",
       "count              1470.000000           1470.000000  \n",
       "mean                  2.187755              4.123129  \n",
       "std                   3.222430              3.568136  \n",
       "min                   0.000000              0.000000  \n",
       "25%                   0.000000              2.000000  \n",
       "50%                   1.000000              3.000000  \n",
       "75%                   3.000000              7.000000  \n",
       "max                  15.000000             17.000000  \n",
       "\n",
       "[8 rows x 28 columns]"
      ]
     },
     "execution_count": 16,
     "metadata": {},
     "output_type": "execute_result"
    }
   ],
   "source": [
    "# Creating a copy to work on both balanced and imbalanced datasets\n",
    "\n",
    "empcpy_imbal = empcpy.copy()\n",
    "\n",
    "feature_names = [\n",
    "    'BusinessTravel',\n",
    "    'EducationField'\n",
    "] # unimportant features to our analysis\n",
    "\n",
    "# Removing the unimportant features with object datatype\n",
    "empcpy_imbal = empcpy_imbal.drop(feature_names, axis=1)\n",
    "\n",
    "empcpy_imbal.describe()\n"
   ]
  },
  {
   "cell_type": "code",
   "execution_count": 17,
   "id": "e10a9c01",
   "metadata": {},
   "outputs": [
    {
     "name": "stdout",
     "output_type": "stream",
     "text": [
      "<class 'pandas.core.frame.DataFrame'>\n",
      "RangeIndex: 1470 entries, 0 to 1469\n",
      "Data columns (total 33 columns):\n",
      " #   Column                    Non-Null Count  Dtype \n",
      "---  ------                    --------------  ----- \n",
      " 0   Age                       1470 non-null   int64 \n",
      " 1   Attrition                 1470 non-null   int64 \n",
      " 2   DailyRate                 1470 non-null   int64 \n",
      " 3   Department                1470 non-null   object\n",
      " 4   DistanceFromHome          1470 non-null   int64 \n",
      " 5   Education                 1470 non-null   int64 \n",
      " 6   EmployeeCount             1470 non-null   int64 \n",
      " 7   EmployeeNumber            1470 non-null   int64 \n",
      " 8   EnvironmentSatisfaction   1470 non-null   int64 \n",
      " 9   Gender                    1470 non-null   object\n",
      " 10  HourlyRate                1470 non-null   int64 \n",
      " 11  JobInvolvement            1470 non-null   int64 \n",
      " 12  JobLevel                  1470 non-null   int64 \n",
      " 13  JobRole                   1470 non-null   object\n",
      " 14  JobSatisfaction           1470 non-null   int64 \n",
      " 15  MaritalStatus             1470 non-null   object\n",
      " 16  MonthlyIncome             1470 non-null   int64 \n",
      " 17  MonthlyRate               1470 non-null   int64 \n",
      " 18  NumCompaniesWorked        1470 non-null   int64 \n",
      " 19  Over18                    1470 non-null   object\n",
      " 20  OverTime                  1470 non-null   int64 \n",
      " 21  PercentSalaryHike         1470 non-null   int64 \n",
      " 22  PerformanceRating         1470 non-null   int64 \n",
      " 23  RelationshipSatisfaction  1470 non-null   int64 \n",
      " 24  StandardHours             1470 non-null   int64 \n",
      " 25  StockOptionLevel          1470 non-null   int64 \n",
      " 26  TotalWorkingYears         1470 non-null   int64 \n",
      " 27  TrainingTimesLastYear     1470 non-null   int64 \n",
      " 28  WorkLifeBalance           1470 non-null   int64 \n",
      " 29  YearsAtCompany            1470 non-null   int64 \n",
      " 30  YearsInCurrentRole        1470 non-null   int64 \n",
      " 31  YearsSinceLastPromotion   1470 non-null   int64 \n",
      " 32  YearsWithCurrManager      1470 non-null   int64 \n",
      "dtypes: int64(28), object(5)\n",
      "memory usage: 379.1+ KB\n"
     ]
    }
   ],
   "source": [
    "# datatype of features in the imbalanced dataset \n",
    "empcpy_imbal.info()"
   ]
  },
  {
   "cell_type": "code",
   "execution_count": 18,
   "id": "6edcbed7",
   "metadata": {},
   "outputs": [],
   "source": [
    "# Converting the categorical variables to numerical\n",
    "\n",
    "empcpy_imbal['Department'] = preprocessing.LabelEncoder().fit_transform(empcpy_imbal['Department'])\n",
    "empcpy_imbal['Gender'] = preprocessing.LabelEncoder().fit_transform(empcpy_imbal['Gender'])\n",
    "empcpy_imbal['JobRole'] = preprocessing.LabelEncoder().fit_transform(empcpy_imbal['JobRole'])\n",
    "empcpy_imbal['MaritalStatus'] = preprocessing.LabelEncoder().fit_transform(empcpy_imbal['MaritalStatus'])\n",
    "empcpy_imbal['Over18'] = preprocessing.LabelEncoder().fit_transform(empcpy_imbal['Over18'])\n"
   ]
  },
  {
   "cell_type": "code",
   "execution_count": 19,
   "id": "2e21c282",
   "metadata": {},
   "outputs": [],
   "source": [
    "#Balancing the dataset using SMOTE\n",
    "smote = SMOTE(sampling_strategy='auto', random_state=42)\n",
    "\n",
    "# Separating the features and the target variable\n",
    "X = empcpy_imbal.drop(columns=['Attrition'])\n",
    "y = empcpy_imbal['Attrition']\n",
    "\n",
    "X_resampled, y_resampled = smote.fit_resample(X, y)"
   ]
  },
  {
   "cell_type": "code",
   "execution_count": 20,
   "id": "e9ac9c83",
   "metadata": {},
   "outputs": [
    {
     "data": {
      "text/html": [
       "<div>\n",
       "<style scoped>\n",
       "    .dataframe tbody tr th:only-of-type {\n",
       "        vertical-align: middle;\n",
       "    }\n",
       "\n",
       "    .dataframe tbody tr th {\n",
       "        vertical-align: top;\n",
       "    }\n",
       "\n",
       "    .dataframe thead th {\n",
       "        text-align: right;\n",
       "    }\n",
       "</style>\n",
       "<table border=\"1\" class=\"dataframe\">\n",
       "  <thead>\n",
       "    <tr style=\"text-align: right;\">\n",
       "      <th></th>\n",
       "      <th>Age</th>\n",
       "      <th>DailyRate</th>\n",
       "      <th>Department</th>\n",
       "      <th>DistanceFromHome</th>\n",
       "      <th>Education</th>\n",
       "      <th>EmployeeCount</th>\n",
       "      <th>EmployeeNumber</th>\n",
       "      <th>EnvironmentSatisfaction</th>\n",
       "      <th>Gender</th>\n",
       "      <th>HourlyRate</th>\n",
       "      <th>...</th>\n",
       "      <th>StandardHours</th>\n",
       "      <th>StockOptionLevel</th>\n",
       "      <th>TotalWorkingYears</th>\n",
       "      <th>TrainingTimesLastYear</th>\n",
       "      <th>WorkLifeBalance</th>\n",
       "      <th>YearsAtCompany</th>\n",
       "      <th>YearsInCurrentRole</th>\n",
       "      <th>YearsSinceLastPromotion</th>\n",
       "      <th>YearsWithCurrManager</th>\n",
       "      <th>Attrition</th>\n",
       "    </tr>\n",
       "  </thead>\n",
       "  <tbody>\n",
       "    <tr>\n",
       "      <th>count</th>\n",
       "      <td>2466.000000</td>\n",
       "      <td>2466.000000</td>\n",
       "      <td>2466.000000</td>\n",
       "      <td>2466.000000</td>\n",
       "      <td>2466.000000</td>\n",
       "      <td>2466.0</td>\n",
       "      <td>2466.000000</td>\n",
       "      <td>2466.000000</td>\n",
       "      <td>2466.000000</td>\n",
       "      <td>2466.000000</td>\n",
       "      <td>...</td>\n",
       "      <td>2466.0</td>\n",
       "      <td>2466.000000</td>\n",
       "      <td>2466.000000</td>\n",
       "      <td>2466.000000</td>\n",
       "      <td>2466.000000</td>\n",
       "      <td>2466.000000</td>\n",
       "      <td>2466.000000</td>\n",
       "      <td>2466.000000</td>\n",
       "      <td>2466.000000</td>\n",
       "      <td>2466.000000</td>\n",
       "    </tr>\n",
       "    <tr>\n",
       "      <th>mean</th>\n",
       "      <td>35.431873</td>\n",
       "      <td>781.935118</td>\n",
       "      <td>1.182887</td>\n",
       "      <td>9.757097</td>\n",
       "      <td>2.741687</td>\n",
       "      <td>1.0</td>\n",
       "      <td>1032.206002</td>\n",
       "      <td>2.478102</td>\n",
       "      <td>0.515004</td>\n",
       "      <td>65.565288</td>\n",
       "      <td>...</td>\n",
       "      <td>80.0</td>\n",
       "      <td>0.591646</td>\n",
       "      <td>9.875101</td>\n",
       "      <td>2.570965</td>\n",
       "      <td>2.607461</td>\n",
       "      <td>6.101379</td>\n",
       "      <td>3.545823</td>\n",
       "      <td>1.957826</td>\n",
       "      <td>3.443228</td>\n",
       "      <td>0.500000</td>\n",
       "    </tr>\n",
       "    <tr>\n",
       "      <th>std</th>\n",
       "      <td>9.009957</td>\n",
       "      <td>378.001308</td>\n",
       "      <td>0.533091</td>\n",
       "      <td>7.720721</td>\n",
       "      <td>0.976489</td>\n",
       "      <td>0.0</td>\n",
       "      <td>563.289834</td>\n",
       "      <td>1.068699</td>\n",
       "      <td>0.499876</td>\n",
       "      <td>19.097359</td>\n",
       "      <td>...</td>\n",
       "      <td>0.0</td>\n",
       "      <td>0.792405</td>\n",
       "      <td>7.492675</td>\n",
       "      <td>1.214196</td>\n",
       "      <td>0.725100</td>\n",
       "      <td>5.926482</td>\n",
       "      <td>3.331534</td>\n",
       "      <td>2.989204</td>\n",
       "      <td>3.296353</td>\n",
       "      <td>0.500101</td>\n",
       "    </tr>\n",
       "    <tr>\n",
       "      <th>min</th>\n",
       "      <td>18.000000</td>\n",
       "      <td>102.000000</td>\n",
       "      <td>0.000000</td>\n",
       "      <td>1.000000</td>\n",
       "      <td>1.000000</td>\n",
       "      <td>1.0</td>\n",
       "      <td>1.000000</td>\n",
       "      <td>1.000000</td>\n",
       "      <td>0.000000</td>\n",
       "      <td>30.000000</td>\n",
       "      <td>...</td>\n",
       "      <td>80.0</td>\n",
       "      <td>0.000000</td>\n",
       "      <td>0.000000</td>\n",
       "      <td>0.000000</td>\n",
       "      <td>1.000000</td>\n",
       "      <td>0.000000</td>\n",
       "      <td>0.000000</td>\n",
       "      <td>0.000000</td>\n",
       "      <td>0.000000</td>\n",
       "      <td>0.000000</td>\n",
       "    </tr>\n",
       "    <tr>\n",
       "      <th>25%</th>\n",
       "      <td>29.000000</td>\n",
       "      <td>469.000000</td>\n",
       "      <td>1.000000</td>\n",
       "      <td>3.000000</td>\n",
       "      <td>2.000000</td>\n",
       "      <td>1.0</td>\n",
       "      <td>557.250000</td>\n",
       "      <td>2.000000</td>\n",
       "      <td>0.000000</td>\n",
       "      <td>50.000000</td>\n",
       "      <td>...</td>\n",
       "      <td>80.0</td>\n",
       "      <td>0.000000</td>\n",
       "      <td>5.000000</td>\n",
       "      <td>2.000000</td>\n",
       "      <td>2.000000</td>\n",
       "      <td>2.000000</td>\n",
       "      <td>1.000000</td>\n",
       "      <td>0.000000</td>\n",
       "      <td>1.000000</td>\n",
       "      <td>0.000000</td>\n",
       "    </tr>\n",
       "    <tr>\n",
       "      <th>50%</th>\n",
       "      <td>34.000000</td>\n",
       "      <td>760.000000</td>\n",
       "      <td>1.000000</td>\n",
       "      <td>8.000000</td>\n",
       "      <td>3.000000</td>\n",
       "      <td>1.0</td>\n",
       "      <td>1037.500000</td>\n",
       "      <td>3.000000</td>\n",
       "      <td>1.000000</td>\n",
       "      <td>65.000000</td>\n",
       "      <td>...</td>\n",
       "      <td>80.0</td>\n",
       "      <td>0.000000</td>\n",
       "      <td>8.000000</td>\n",
       "      <td>2.000000</td>\n",
       "      <td>3.000000</td>\n",
       "      <td>5.000000</td>\n",
       "      <td>2.000000</td>\n",
       "      <td>1.000000</td>\n",
       "      <td>2.000000</td>\n",
       "      <td>0.500000</td>\n",
       "    </tr>\n",
       "    <tr>\n",
       "      <th>75%</th>\n",
       "      <td>41.000000</td>\n",
       "      <td>1097.000000</td>\n",
       "      <td>1.750000</td>\n",
       "      <td>15.000000</td>\n",
       "      <td>3.000000</td>\n",
       "      <td>1.0</td>\n",
       "      <td>1497.750000</td>\n",
       "      <td>3.000000</td>\n",
       "      <td>1.000000</td>\n",
       "      <td>82.000000</td>\n",
       "      <td>...</td>\n",
       "      <td>80.0</td>\n",
       "      <td>1.000000</td>\n",
       "      <td>13.000000</td>\n",
       "      <td>3.000000</td>\n",
       "      <td>3.000000</td>\n",
       "      <td>8.000000</td>\n",
       "      <td>6.000000</td>\n",
       "      <td>2.000000</td>\n",
       "      <td>6.000000</td>\n",
       "      <td>1.000000</td>\n",
       "    </tr>\n",
       "    <tr>\n",
       "      <th>max</th>\n",
       "      <td>60.000000</td>\n",
       "      <td>1499.000000</td>\n",
       "      <td>2.000000</td>\n",
       "      <td>29.000000</td>\n",
       "      <td>5.000000</td>\n",
       "      <td>1.0</td>\n",
       "      <td>2068.000000</td>\n",
       "      <td>4.000000</td>\n",
       "      <td>1.000000</td>\n",
       "      <td>100.000000</td>\n",
       "      <td>...</td>\n",
       "      <td>80.0</td>\n",
       "      <td>3.000000</td>\n",
       "      <td>40.000000</td>\n",
       "      <td>6.000000</td>\n",
       "      <td>4.000000</td>\n",
       "      <td>40.000000</td>\n",
       "      <td>18.000000</td>\n",
       "      <td>15.000000</td>\n",
       "      <td>17.000000</td>\n",
       "      <td>1.000000</td>\n",
       "    </tr>\n",
       "  </tbody>\n",
       "</table>\n",
       "<p>8 rows × 33 columns</p>\n",
       "</div>"
      ],
      "text/plain": [
       "               Age    DailyRate   Department  DistanceFromHome    Education  \\\n",
       "count  2466.000000  2466.000000  2466.000000       2466.000000  2466.000000   \n",
       "mean     35.431873   781.935118     1.182887          9.757097     2.741687   \n",
       "std       9.009957   378.001308     0.533091          7.720721     0.976489   \n",
       "min      18.000000   102.000000     0.000000          1.000000     1.000000   \n",
       "25%      29.000000   469.000000     1.000000          3.000000     2.000000   \n",
       "50%      34.000000   760.000000     1.000000          8.000000     3.000000   \n",
       "75%      41.000000  1097.000000     1.750000         15.000000     3.000000   \n",
       "max      60.000000  1499.000000     2.000000         29.000000     5.000000   \n",
       "\n",
       "       EmployeeCount  EmployeeNumber  EnvironmentSatisfaction       Gender  \\\n",
       "count         2466.0     2466.000000              2466.000000  2466.000000   \n",
       "mean             1.0     1032.206002                 2.478102     0.515004   \n",
       "std              0.0      563.289834                 1.068699     0.499876   \n",
       "min              1.0        1.000000                 1.000000     0.000000   \n",
       "25%              1.0      557.250000                 2.000000     0.000000   \n",
       "50%              1.0     1037.500000                 3.000000     1.000000   \n",
       "75%              1.0     1497.750000                 3.000000     1.000000   \n",
       "max              1.0     2068.000000                 4.000000     1.000000   \n",
       "\n",
       "        HourlyRate  ...  StandardHours  StockOptionLevel  TotalWorkingYears  \\\n",
       "count  2466.000000  ...         2466.0       2466.000000        2466.000000   \n",
       "mean     65.565288  ...           80.0          0.591646           9.875101   \n",
       "std      19.097359  ...            0.0          0.792405           7.492675   \n",
       "min      30.000000  ...           80.0          0.000000           0.000000   \n",
       "25%      50.000000  ...           80.0          0.000000           5.000000   \n",
       "50%      65.000000  ...           80.0          0.000000           8.000000   \n",
       "75%      82.000000  ...           80.0          1.000000          13.000000   \n",
       "max     100.000000  ...           80.0          3.000000          40.000000   \n",
       "\n",
       "       TrainingTimesLastYear  WorkLifeBalance  YearsAtCompany  \\\n",
       "count            2466.000000      2466.000000     2466.000000   \n",
       "mean                2.570965         2.607461        6.101379   \n",
       "std                 1.214196         0.725100        5.926482   \n",
       "min                 0.000000         1.000000        0.000000   \n",
       "25%                 2.000000         2.000000        2.000000   \n",
       "50%                 2.000000         3.000000        5.000000   \n",
       "75%                 3.000000         3.000000        8.000000   \n",
       "max                 6.000000         4.000000       40.000000   \n",
       "\n",
       "       YearsInCurrentRole  YearsSinceLastPromotion  YearsWithCurrManager  \\\n",
       "count         2466.000000              2466.000000           2466.000000   \n",
       "mean             3.545823                 1.957826              3.443228   \n",
       "std              3.331534                 2.989204              3.296353   \n",
       "min              0.000000                 0.000000              0.000000   \n",
       "25%              1.000000                 0.000000              1.000000   \n",
       "50%              2.000000                 1.000000              2.000000   \n",
       "75%              6.000000                 2.000000              6.000000   \n",
       "max             18.000000                15.000000             17.000000   \n",
       "\n",
       "         Attrition  \n",
       "count  2466.000000  \n",
       "mean      0.500000  \n",
       "std       0.500101  \n",
       "min       0.000000  \n",
       "25%       0.000000  \n",
       "50%       0.500000  \n",
       "75%       1.000000  \n",
       "max       1.000000  \n",
       "\n",
       "[8 rows x 33 columns]"
      ]
     },
     "execution_count": 20,
     "metadata": {},
     "output_type": "execute_result"
    }
   ],
   "source": [
    "# Combining them to make a balanced dataset\n",
    "empcpy_balanced = pd.concat([X_resampled, y_resampled], axis=1)\n",
    "\n",
    "empcpy_balanced.describe()"
   ]
  },
  {
   "cell_type": "code",
   "execution_count": null,
   "id": "175f8ae5",
   "metadata": {},
   "outputs": [],
   "source": []
  },
  {
   "cell_type": "code",
   "execution_count": null,
   "id": "38d5ac7d",
   "metadata": {},
   "outputs": [],
   "source": []
  },
  {
   "cell_type": "code",
   "execution_count": null,
   "id": "301f10b6",
   "metadata": {},
   "outputs": [],
   "source": []
  },
  {
   "cell_type": "code",
   "execution_count": 21,
   "id": "1e78007f",
   "metadata": {},
   "outputs": [],
   "source": [
    "# splitting the attributes of the imbalanced dataset\n",
    "a = empcpy_imbal.drop('Attrition', axis = 1) \n",
    "b = empcpy_imbal['Attrition']\n",
    "\n",
    "# normalizing the dataset using standard scaler\n",
    "Scaler = StandardScaler()\n",
    "a = Scaler.fit_transform(a)\n",
    "\n",
    "a_train, a_test, b_train, b_test = train_test_split(a, b, test_size=0.2, random_state=2)"
   ]
  },
  {
   "cell_type": "code",
   "execution_count": 22,
   "id": "883d7686",
   "metadata": {},
   "outputs": [
    {
     "name": "stdout",
     "output_type": "stream",
     "text": [
      "Accuracy: 0.86\n",
      "Classification Report:\n",
      "              precision    recall  f1-score   support\n",
      "\n",
      "           0       0.88      0.97      0.92       246\n",
      "           1       0.67      0.29      0.41        48\n",
      "\n",
      "    accuracy                           0.86       294\n",
      "   macro avg       0.77      0.63      0.66       294\n",
      "weighted avg       0.84      0.86      0.84       294\n",
      "\n",
      "Confusion Matrix:\n",
      "[[239   7]\n",
      " [ 34  14]]\n",
      "Most Contributing Features:\n",
      "    Coefficient\n",
      "19     0.830186\n",
      "30     0.538123\n",
      "14     0.508486\n",
      "28     0.500319\n",
      "17     0.390164\n"
     ]
    }
   ],
   "source": [
    "# Logistic regression model\n",
    "model = LogisticRegression()\n",
    "\n",
    "# Fitting the model with the training data\n",
    "model.fit(a_train, b_train)\n",
    "\n",
    "# Making the predictions on the test data\n",
    "b_pred = model.predict(a_test)\n",
    "\n",
    "# Printing the results\n",
    "accuracy = accuracy_score(b_test, b_pred)\n",
    "print(f\"Accuracy: {accuracy:.2f}\")\n",
    "\n",
    "print(\"Classification Report:\")\n",
    "print(classification_report(b_test, b_pred))\n",
    "\n",
    "print(\"Confusion Matrix:\")\n",
    "print(confusion_matrix(b_test, b_pred))\n",
    "\n",
    "# Accessing the important features and printing them\n",
    "coefficients = pd.DataFrame({'Coefficient': model.coef_[0]})\n",
    "coefficients = coefficients.sort_values(by='Coefficient', ascending=False)\n",
    "\n",
    "print(\"Most Contributing Features:\")\n",
    "print(coefficients.head(5))"
   ]
  },
  {
   "cell_type": "code",
   "execution_count": null,
   "id": "7a627970",
   "metadata": {},
   "outputs": [],
   "source": []
  },
  {
   "cell_type": "code",
   "execution_count": 23,
   "id": "5dc4bd9e",
   "metadata": {},
   "outputs": [
    {
     "name": "stdout",
     "output_type": "stream",
     "text": [
      "AUC-ROC Curve Value: 0.79\n"
     ]
    }
   ],
   "source": [
    "# AUC-ROC curve prediction\n",
    "b_probs = model.predict_proba(a_test)[:, 1]\n",
    "\n",
    "# printing the AUC-ROC curve value\n",
    "roc_auc = roc_auc_score(b_test, b_probs)\n",
    "print(f\"AUC-ROC Curve Value: {roc_auc:.2f}\")"
   ]
  },
  {
   "cell_type": "code",
   "execution_count": null,
   "id": "c667f3cf",
   "metadata": {},
   "outputs": [],
   "source": []
  },
  {
   "cell_type": "code",
   "execution_count": null,
   "id": "01890f96",
   "metadata": {},
   "outputs": [],
   "source": []
  },
  {
   "cell_type": "code",
   "execution_count": 24,
   "id": "05419a85",
   "metadata": {},
   "outputs": [],
   "source": [
    "# splitting the attributes of the balanced dataset\n",
    "X = empcpy_balanced.drop('Attrition', axis = 1)\n",
    "y = empcpy_balanced['Attrition']\n",
    "\n",
    "Scaler = StandardScaler()\n",
    "X = Scaler.fit_transform(X)\n",
    "\n",
    "X_train, X_test, y_train, y_test = train_test_split(X, y, test_size=0.2, random_state=2)"
   ]
  },
  {
   "cell_type": "code",
   "execution_count": 25,
   "id": "aef9a99e",
   "metadata": {},
   "outputs": [
    {
     "name": "stdout",
     "output_type": "stream",
     "text": [
      "Accuracy: 0.83\n",
      "Classification Report:\n",
      "              precision    recall  f1-score   support\n",
      "\n",
      "           0       0.82      0.82      0.82       236\n",
      "           1       0.84      0.83      0.83       258\n",
      "\n",
      "    accuracy                           0.83       494\n",
      "   macro avg       0.83      0.83      0.83       494\n",
      "weighted avg       0.83      0.83      0.83       494\n",
      "\n",
      "Confusion Matrix:\n",
      "[[194  42]\n",
      " [ 44 214]]\n",
      "Most Contributing Features:\n",
      "    Coefficient\n",
      "28     0.823158\n",
      "30     0.498360\n",
      "19     0.453780\n",
      "17     0.301815\n",
      "3      0.262935\n"
     ]
    }
   ],
   "source": [
    "#logistic regression model\n",
    "model = LogisticRegression()\n",
    "\n",
    "model.fit(X_train, y_train)\n",
    "\n",
    "y_pred = model.predict(X_test)\n",
    "\n",
    "accuracy = accuracy_score(y_test, y_pred)\n",
    "print(f\"Accuracy: {accuracy:.2f}\")\n",
    "\n",
    "print(\"Classification Report:\")\n",
    "print(classification_report(y_test, y_pred))\n",
    "\n",
    "print(\"Confusion Matrix:\")\n",
    "print(confusion_matrix(y_test, y_pred))\n",
    "\n",
    "coefficients = pd.DataFrame({'Coefficient': model.coef_[0]})\n",
    "coefficients = coefficients.sort_values(by='Coefficient', ascending=False)\n",
    "\n",
    "print(\"Most Contributing Features:\")\n",
    "print(coefficients.head(5))"
   ]
  },
  {
   "cell_type": "code",
   "execution_count": null,
   "id": "a22b0fa5",
   "metadata": {},
   "outputs": [],
   "source": []
  },
  {
   "cell_type": "code",
   "execution_count": 26,
   "id": "c0f0548a",
   "metadata": {},
   "outputs": [
    {
     "name": "stdout",
     "output_type": "stream",
     "text": [
      "AUC-ROC Curve Value: 0.91\n"
     ]
    }
   ],
   "source": [
    "# AUC-ROC\n",
    "y_probs = model.predict_proba(X_test)[:, 1]\n",
    "\n",
    "roc_auc = roc_auc_score(y_test, y_probs)\n",
    "print(f\"AUC-ROC Curve Value: {roc_auc:.2f}\")"
   ]
  },
  {
   "cell_type": "code",
   "execution_count": null,
   "id": "7fce5158",
   "metadata": {},
   "outputs": [],
   "source": []
  },
  {
   "cell_type": "code",
   "execution_count": null,
   "id": "731858de",
   "metadata": {},
   "outputs": [],
   "source": []
  },
  {
   "cell_type": "code",
   "execution_count": 63,
   "id": "0c1f3a09",
   "metadata": {},
   "outputs": [
    {
     "name": "stdout",
     "output_type": "stream",
     "text": [
      "Accuracy: 0.79\n",
      "Classification Report:\n",
      "              precision    recall  f1-score   support\n",
      "\n",
      "           0       0.88      0.87      0.88       246\n",
      "           1       0.37      0.38      0.37        48\n",
      "\n",
      "    accuracy                           0.79       294\n",
      "   macro avg       0.62      0.62      0.62       294\n",
      "weighted avg       0.79      0.79      0.79       294\n",
      "\n",
      "Confusion Matrix:\n",
      "[[215  31]\n",
      " [ 30  18]]\n"
     ]
    }
   ],
   "source": [
    "# Decision Tree classifier\n",
    "model = DecisionTreeClassifier()\n",
    "\n",
    "model.fit(a_train, b_train)\n",
    "\n",
    "b_pred = model.predict(a_test)\n",
    "\n",
    "# printing the accuracy\n",
    "accuracy = accuracy_score(b_test, b_pred)\n",
    "print(f\"Accuracy: {accuracy:.2f}\")\n",
    "\n",
    "print(\"Classification Report:\")\n",
    "print(classification_report(b_test, b_pred))\n",
    "\n",
    "print(\"Confusion Matrix:\")\n",
    "print(confusion_matrix(b_test, b_pred))"
   ]
  },
  {
   "cell_type": "code",
   "execution_count": 28,
   "id": "86fadabb",
   "metadata": {},
   "outputs": [
    {
     "name": "stdout",
     "output_type": "stream",
     "text": [
      "AUC-ROC Curve Value: 0.63\n"
     ]
    }
   ],
   "source": [
    "# AUC-ROC curve\n",
    "b_probs = model.predict_proba(a_test)[:, 1]\n",
    "\n",
    "roc_auc = roc_auc_score(b_test, b_probs)\n",
    "print(f\"AUC-ROC Curve Value: {roc_auc:.2f}\")"
   ]
  },
  {
   "cell_type": "code",
   "execution_count": null,
   "id": "17b49107",
   "metadata": {},
   "outputs": [],
   "source": []
  },
  {
   "cell_type": "code",
   "execution_count": 62,
   "id": "831a505a",
   "metadata": {},
   "outputs": [
    {
     "name": "stdout",
     "output_type": "stream",
     "text": [
      "Best Hyperparameters:\n",
      "{'criterion': 'gini', 'max_depth': None, 'min_samples_leaf': 4, 'min_samples_split': 2, 'splitter': 'random'}\n",
      "Accuracy: 0.83\n",
      "Classification Report:\n",
      "              precision    recall  f1-score   support\n",
      "\n",
      "           0       0.89      0.91      0.90       246\n",
      "           1       0.48      0.42      0.44        48\n",
      "\n",
      "    accuracy                           0.83       294\n",
      "   macro avg       0.68      0.66      0.67       294\n",
      "weighted avg       0.82      0.83      0.83       294\n",
      "\n",
      "Confusion Matrix:\n",
      "[[224  22]\n",
      " [ 28  20]]\n"
     ]
    }
   ],
   "source": [
    "# Decision Tree classifier for the hyperparameter tuning in the imbalanced dataset\n",
    "model = DecisionTreeClassifier()\n",
    "\n",
    "# Defining the hyperparameter grid to search\n",
    "param_grid = {\n",
    "    'criterion': ['gini', 'entropy'],\n",
    "    'splitter': ['best', 'random'],\n",
    "    'max_depth': [None, 10, 20, 30], \n",
    "    'min_samples_split': [2, 5, 10],\n",
    "    'min_samples_leaf': [1, 2, 4]\n",
    "}\n",
    "\n",
    "# Creating the GridSearchCV object\n",
    "grid_search = GridSearchCV(model, param_grid, cv=5, scoring='accuracy')\n",
    "\n",
    "grid_search.fit(a_train, b_train)\n",
    "\n",
    "best_params = grid_search.best_params_\n",
    "\n",
    "# Printing the best hyperparameters\n",
    "print(\"Best Hyperparameters:\")\n",
    "print(best_params)\n",
    "\n",
    "# Finding the best model\n",
    "best_model = grid_search.best_estimator_\n",
    "\n",
    "b_pred = best_model.predict(a_test)\n",
    "\n",
    "# Printing the accuracy\n",
    "accuracy = accuracy_score(b_test, b_pred)\n",
    "print(f\"Accuracy: {accuracy:.2f}\")\n",
    "\n",
    "print(\"Classification Report:\")\n",
    "print(classification_report(b_test, b_pred))\n",
    "\n",
    "print(\"Confusion Matrix:\")\n",
    "print(confusion_matrix(b_test, b_pred))"
   ]
  },
  {
   "cell_type": "code",
   "execution_count": null,
   "id": "1b431d38",
   "metadata": {},
   "outputs": [],
   "source": []
  },
  {
   "cell_type": "code",
   "execution_count": null,
   "id": "8a27cda7",
   "metadata": {},
   "outputs": [],
   "source": []
  },
  {
   "cell_type": "code",
   "execution_count": 64,
   "id": "0f81176c",
   "metadata": {},
   "outputs": [
    {
     "name": "stdout",
     "output_type": "stream",
     "text": [
      "Accuracy: 0.80\n",
      "Classification Report:\n",
      "              precision    recall  f1-score   support\n",
      "\n",
      "           0       0.80      0.78      0.79       236\n",
      "           1       0.80      0.82      0.81       258\n",
      "\n",
      "    accuracy                           0.80       494\n",
      "   macro avg       0.80      0.80      0.80       494\n",
      "weighted avg       0.80      0.80      0.80       494\n",
      "\n",
      "Confusion Matrix:\n",
      "[[183  53]\n",
      " [ 46 212]]\n"
     ]
    }
   ],
   "source": [
    "# Decision Tree classifier\n",
    "model = DecisionTreeClassifier()\n",
    "\n",
    "model.fit(X_train, y_train)\n",
    "\n",
    "y_pred = model.predict(X_test)\n",
    "\n",
    "accuracy = accuracy_score(y_test, y_pred)\n",
    "print(f\"Accuracy: {accuracy:.2f}\")\n",
    "\n",
    "print(\"Classification Report:\")\n",
    "print(classification_report(y_test, y_pred))\n",
    "\n",
    "print(\"Confusion Matrix:\")\n",
    "cm = confusion_matrix(y_test, y_pred)\n",
    "print(cm)"
   ]
  },
  {
   "cell_type": "code",
   "execution_count": null,
   "id": "9e0b3d7f",
   "metadata": {},
   "outputs": [],
   "source": []
  },
  {
   "cell_type": "code",
   "execution_count": 31,
   "id": "9742a1ff",
   "metadata": {},
   "outputs": [
    {
     "name": "stdout",
     "output_type": "stream",
     "text": [
      "AUC-ROC Curve Value: 0.79\n"
     ]
    }
   ],
   "source": [
    "# AUC-ROC curve\n",
    "y_probs = model.predict_proba(X_test)[:, 1]\n",
    "\n",
    "roc_auc = roc_auc_score(y_test, y_probs)\n",
    "print(f\"AUC-ROC Curve Value: {roc_auc:.2f}\")"
   ]
  },
  {
   "cell_type": "code",
   "execution_count": null,
   "id": "bf7784e1",
   "metadata": {},
   "outputs": [],
   "source": []
  },
  {
   "cell_type": "code",
   "execution_count": null,
   "id": "120a2955",
   "metadata": {},
   "outputs": [],
   "source": []
  },
  {
   "cell_type": "code",
   "execution_count": null,
   "id": "53e58af3",
   "metadata": {},
   "outputs": [],
   "source": []
  },
  {
   "cell_type": "code",
   "execution_count": 61,
   "id": "fa63db4b",
   "metadata": {},
   "outputs": [
    {
     "name": "stdout",
     "output_type": "stream",
     "text": [
      "Best Hyperparameters:\n",
      "{'criterion': 'entropy', 'max_depth': None, 'min_samples_leaf': 1, 'min_samples_split': 10, 'splitter': 'random'}\n",
      "Accuracy: 0.88\n",
      "Classification Report:\n",
      "              precision    recall  f1-score   support\n",
      "\n",
      "           0       0.87      0.87      0.87       236\n",
      "           1       0.88      0.88      0.88       258\n",
      "\n",
      "    accuracy                           0.88       494\n",
      "   macro avg       0.88      0.88      0.88       494\n",
      "weighted avg       0.88      0.88      0.88       494\n",
      "\n",
      "Confusion Matrix:\n",
      "[[205  31]\n",
      " [ 30 228]]\n"
     ]
    }
   ],
   "source": [
    "# Decision Tree classifier for the hyperparameter tuning in balanced dataset\n",
    "model = DecisionTreeClassifier()\n",
    "\n",
    "param_grid = {\n",
    "    'criterion': ['gini', 'entropy'],\n",
    "    'splitter': ['best', 'random'],\n",
    "    'max_depth': [None, 10, 20, 30], \n",
    "    'min_samples_split': [2, 5, 10],\n",
    "    'min_samples_leaf': [1, 2, 4]\n",
    "}\n",
    "\n",
    "grid_search = GridSearchCV(model, param_grid, cv=5, scoring='accuracy')\n",
    "\n",
    "grid_search.fit(X_train, y_train)\n",
    "\n",
    "best_params = grid_search.best_params_\n",
    "\n",
    "# Printing the best hyperparameters\n",
    "print(\"Best Hyperparameters:\")\n",
    "print(best_params)\n",
    "\n",
    "best_model = grid_search.best_estimator_\n",
    "\n",
    "b_pred = best_model.predict(X_test)\n",
    "\n",
    "# Printing the accuracy\n",
    "accuracy = accuracy_score(y_test, y_pred)\n",
    "print(f\"Accuracy: {accuracy:.2f}\")\n",
    "\n",
    "print(\"Classification Report:\")\n",
    "print(classification_report(y_test, y_pred))\n",
    "\n",
    "print(\"Confusion Matrix:\")\n",
    "print(confusion_matrix(y_test, y_pred))"
   ]
  },
  {
   "cell_type": "code",
   "execution_count": null,
   "id": "c8a1c163",
   "metadata": {},
   "outputs": [],
   "source": []
  },
  {
   "cell_type": "code",
   "execution_count": null,
   "id": "0b04e8c8",
   "metadata": {},
   "outputs": [],
   "source": []
  },
  {
   "cell_type": "code",
   "execution_count": 33,
   "id": "2f2cb472",
   "metadata": {},
   "outputs": [
    {
     "name": "stdout",
     "output_type": "stream",
     "text": [
      "Accuracy: 0.85\n",
      "Classification Report:\n",
      "              precision    recall  f1-score   support\n",
      "\n",
      "           0       0.86      0.99      0.92       246\n",
      "           1       0.73      0.17      0.27        48\n",
      "\n",
      "    accuracy                           0.85       294\n",
      "   macro avg       0.79      0.58      0.59       294\n",
      "weighted avg       0.84      0.85      0.81       294\n",
      "\n",
      "Confusion Matrix:\n",
      "[[243   3]\n",
      " [ 40   8]]\n"
     ]
    },
    {
     "data": {
      "image/png": "[encoded data removed]",
      "text/plain": [
       "<Figure size 600x500 with 2 Axes>"
      ]
     },
     "metadata": {},
     "output_type": "display_data"
    },
    {
     "name": "stdout",
     "output_type": "stream",
     "text": [
      "Feature Importance:\n",
      "    Importance\n",
      "15    0.077486\n",
      "0     0.065591\n",
      "16    0.056884\n",
      "19    0.054818\n",
      "1     0.054638\n",
      "25    0.052628\n",
      "6     0.048147\n",
      "3     0.048075\n",
      "9     0.045615\n",
      "28    0.041909\n",
      "20    0.038231\n",
      "17    0.032835\n",
      "31    0.031089\n",
      "7     0.030396\n",
      "12    0.029666\n",
      "24    0.029389\n",
      "10    0.028030\n",
      "26    0.027223\n",
      "13    0.026563\n",
      "30    0.026378\n",
      "29    0.026330\n",
      "27    0.023794\n",
      "22    0.021609\n",
      "14    0.020106\n",
      "4     0.018153\n",
      "11    0.016208\n",
      "2     0.013827\n",
      "8     0.008564\n",
      "21    0.005816\n",
      "5     0.000000\n",
      "18    0.000000\n",
      "23    0.000000\n"
     ]
    }
   ],
   "source": [
    "# Random Forest classifier\n",
    "model = RandomForestClassifier()\n",
    "\n",
    "model.fit(a_train, b_train)\n",
    "\n",
    "b_pred = model.predict(a_test)\n",
    "\n",
    "# Printing the accuracy\n",
    "accuracy = accuracy_score(b_test, b_pred)\n",
    "print(f\"Accuracy: {accuracy:.2f}\")\n",
    "\n",
    "print(\"Classification Report:\")\n",
    "print(classification_report(b_test, b_pred))\n",
    "\n",
    "print(\"Confusion Matrix:\")\n",
    "con_mat = confusion_matrix(b_test, b_pred)\n",
    "print(con_mat)\n",
    "\n",
    "# Visualizing the confusion matrix\n",
    "plt.figure(figsize=(6, 5))\n",
    "sns.heatmap(con_mat, annot=True, cmap=\"Greens\", fmt=\"d\", xticklabels=model.classes_, yticklabels=model.classes_)\n",
    "plt.xlabel(\"Predicted Class\")\n",
    "plt.ylabel(\"Actual Class\")\n",
    "plt.show()\n",
    "\n",
    "# Printing the index of the important features \n",
    "feature_importance = pd.DataFrame({'Importance': model.feature_importances_})\n",
    "feature_importance = feature_importance.sort_values(by='Importance', ascending=False)\n",
    "print(\"Feature Importance:\")\n",
    "print(feature_importance)"
   ]
  },
  {
   "cell_type": "code",
   "execution_count": null,
   "id": "c135451f",
   "metadata": {},
   "outputs": [],
   "source": []
  },
  {
   "cell_type": "code",
   "execution_count": 34,
   "id": "32cc959c",
   "metadata": {},
   "outputs": [
    {
     "name": "stdout",
     "output_type": "stream",
     "text": [
      "AUC-ROC Curve Value: 0.81\n"
     ]
    }
   ],
   "source": [
    "# AUC-ROC curve\n",
    "b_probs = model.predict_proba(a_test)[:, 1]\n",
    "\n",
    "roc_auc = roc_auc_score(b_test, b_probs)\n",
    "print(f\"AUC-ROC Curve Value: {roc_auc:.2f}\")"
   ]
  },
  {
   "cell_type": "code",
   "execution_count": null,
   "id": "7e51dc27",
   "metadata": {},
   "outputs": [],
   "source": []
  },
  {
   "cell_type": "code",
   "execution_count": 35,
   "id": "6d18bc5f",
   "metadata": {},
   "outputs": [
    {
     "name": "stdout",
     "output_type": "stream",
     "text": [
      "Accuracy: 0.93\n",
      "Classification Report:\n",
      "              precision    recall  f1-score   support\n",
      "\n",
      "           0       0.91      0.94      0.93       236\n",
      "           1       0.95      0.91      0.93       258\n",
      "\n",
      "    accuracy                           0.93       494\n",
      "   macro avg       0.93      0.93      0.93       494\n",
      "weighted avg       0.93      0.93      0.93       494\n",
      "\n",
      "Confusion Matrix:\n",
      "[[223  13]\n",
      " [ 23 235]]\n",
      "Feature Importance:\n",
      "    Importance\n",
      "24    0.071571\n",
      "15    0.064085\n",
      "13    0.063493\n",
      "7     0.048918\n",
      "16    0.046200\n",
      "10    0.045448\n",
      "1     0.044221\n",
      "31    0.043290\n",
      "6     0.042920\n",
      "3     0.041414\n",
      "0     0.040393\n",
      "25    0.039186\n",
      "9     0.038569\n",
      "22    0.038265\n",
      "29    0.037965\n",
      "28    0.033953\n",
      "11    0.030738\n",
      "27    0.030116\n",
      "26    0.029335\n",
      "20    0.027352\n",
      "17    0.022536\n",
      "30    0.022287\n",
      "4     0.022187\n",
      "12    0.021580\n",
      "14    0.017303\n",
      "19    0.011013\n",
      "8     0.008864\n",
      "2     0.008855\n",
      "21    0.007944\n",
      "18    0.000000\n",
      "23    0.000000\n",
      "5     0.000000\n"
     ]
    }
   ],
   "source": [
    "# Random Forest classifier\n",
    "model = RandomForestClassifier()\n",
    "\n",
    "model.fit(X_train, y_train)\n",
    "\n",
    "y_pred = model.predict(X_test)\n",
    "\n",
    "# Printing the results\n",
    "accuracy = accuracy_score(y_test, y_pred)\n",
    "print(f\"Accuracy: {accuracy:.2f}\")\n",
    "\n",
    "print(\"Classification Report:\")\n",
    "print(classification_report(y_test, y_pred))\n",
    "\n",
    "print(\"Confusion Matrix:\")\n",
    "print(confusion_matrix(y_test, y_pred))\n",
    "\n",
    "# Printing the index of the important features\n",
    "feature_importance = pd.DataFrame({'Importance': model.feature_importances_})\n",
    "feature_importance = feature_importance.sort_values(by='Importance', ascending=False)\n",
    "print(\"Feature Importance:\")\n",
    "print(feature_importance)"
   ]
  },
  {
   "cell_type": "code",
   "execution_count": null,
   "id": "6690288d",
   "metadata": {},
   "outputs": [],
   "source": []
  },
  {
   "cell_type": "code",
   "execution_count": 36,
   "id": "11bd3520",
   "metadata": {},
   "outputs": [
    {
     "name": "stdout",
     "output_type": "stream",
     "text": [
      "AUC-ROC Curve Value: 0.98\n"
     ]
    }
   ],
   "source": [
    "# AUC-ROC curve\n",
    "y_probs = model.predict_proba(X_test)[:, 1]\n",
    "\n",
    "roc_auc = roc_auc_score(y_test, y_probs)\n",
    "print(f\"AUC-ROC Curve Value: {roc_auc:.2f}\")"
   ]
  },
  {
   "cell_type": "code",
   "execution_count": null,
   "id": "eddbd1c4",
   "metadata": {},
   "outputs": [],
   "source": []
  },
  {
   "cell_type": "code",
   "execution_count": 37,
   "id": "fc557886",
   "metadata": {},
   "outputs": [
    {
     "name": "stdout",
     "output_type": "stream",
     "text": [
      "Accuracy: 0.85\n",
      "Classification Report:\n",
      "              precision    recall  f1-score   support\n",
      "\n",
      "           0       0.86      0.98      0.92       246\n",
      "           1       0.69      0.19      0.30        48\n",
      "\n",
      "    accuracy                           0.85       294\n",
      "   macro avg       0.78      0.59      0.61       294\n",
      "weighted avg       0.83      0.85      0.82       294\n",
      "\n",
      "Confusion Matrix:\n",
      "[[242   4]\n",
      " [ 39   9]]\n"
     ]
    }
   ],
   "source": [
    "# SVM classifier\n",
    "model = SVC(probability=True)  \n",
    "\n",
    "model.fit(a_train, b_train)\n",
    "\n",
    "b_pred = model.predict(a_test)\n",
    "\n",
    "# Printing the accuracy\n",
    "accuracy = accuracy_score(b_test, b_pred)\n",
    "print(f\"Accuracy: {accuracy:.2f}\")\n",
    "\n",
    "print(\"Classification Report:\")\n",
    "print(classification_report(b_test, b_pred))\n",
    "\n",
    "print(\"Confusion Matrix:\")\n",
    "confmat = confusion_matrix(b_test, b_pred)\n",
    "print(confmat)"
   ]
  },
  {
   "cell_type": "code",
   "execution_count": null,
   "id": "a22e3dd0",
   "metadata": {},
   "outputs": [],
   "source": []
  },
  {
   "cell_type": "code",
   "execution_count": 38,
   "id": "90a5f00c",
   "metadata": {},
   "outputs": [
    {
     "name": "stdout",
     "output_type": "stream",
     "text": [
      "AUC-ROC Curve Value: 0.82\n"
     ]
    }
   ],
   "source": [
    "# AUC-ROC curve\n",
    "b_probs = model.predict_proba(a_test)[:, 1]\n",
    "\n",
    "roc_auc = roc_auc_score(b_test, b_probs)\n",
    "print(f\"AUC-ROC Curve Value: {roc_auc:.2f}\")"
   ]
  },
  {
   "cell_type": "code",
   "execution_count": null,
   "id": "77dff087",
   "metadata": {},
   "outputs": [],
   "source": []
  },
  {
   "cell_type": "code",
   "execution_count": 39,
   "id": "ae742e0e",
   "metadata": {},
   "outputs": [
    {
     "name": "stdout",
     "output_type": "stream",
     "text": [
      "Accuracy: 0.91\n",
      "Classification Report:\n",
      "              precision    recall  f1-score   support\n",
      "\n",
      "           0       0.90      0.92      0.91       236\n",
      "           1       0.93      0.90      0.92       258\n",
      "\n",
      "    accuracy                           0.91       494\n",
      "   macro avg       0.91      0.91      0.91       494\n",
      "weighted avg       0.91      0.91      0.91       494\n",
      "\n",
      "Confusion Matrix:\n",
      "[[218  18]\n",
      " [ 25 233]]\n"
     ]
    },
    {
     "data": {
      "image/png": "[encoded data removed]",
      "text/plain": [
       "<Figure size 600x500 with 2 Axes>"
      ]
     },
     "metadata": {},
     "output_type": "display_data"
    }
   ],
   "source": [
    "# SVM classifier\n",
    "model = SVC(probability=True)  \n",
    "\n",
    "model.fit(X_train, y_train)\n",
    "\n",
    "y_pred = model.predict(X_test)\n",
    "\n",
    "# Printing the accuracy\n",
    "accuracy = accuracy_score(y_test, y_pred)\n",
    "print(f\"Accuracy: {accuracy:.2f}\")\n",
    "\n",
    "print(\"Classification Report:\")\n",
    "print(classification_report(y_test, y_pred))\n",
    "\n",
    "print(\"Confusion Matrix:\")\n",
    "confmat = confusion_matrix(y_test, y_pred)\n",
    "print(confmat)\n",
    "\n",
    "# Visualizing the confusion matrix\n",
    "plt.figure(figsize=(6, 5))\n",
    "sns.heatmap(confmat, annot=True, cmap=\"Greens\", fmt=\"d\", xticklabels=model.classes_, yticklabels=model.classes_)\n",
    "plt.xlabel(\"Predicted Class\")\n",
    "plt.ylabel(\"Actual Class\")\n",
    "plt.show()"
   ]
  },
  {
   "cell_type": "code",
   "execution_count": null,
   "id": "25cb77fc",
   "metadata": {},
   "outputs": [],
   "source": []
  },
  {
   "cell_type": "code",
   "execution_count": 40,
   "id": "a36b22f7",
   "metadata": {},
   "outputs": [
    {
     "name": "stdout",
     "output_type": "stream",
     "text": [
      "AUC-ROC Curve Value: 0.97\n"
     ]
    }
   ],
   "source": [
    "# AUC-ROC curve\n",
    "y_probs = model.predict_proba(X_test)[:, 1]\n",
    "\n",
    "roc_auc = roc_auc_score(y_test, y_probs)\n",
    "print(f\"AUC-ROC Curve Value: {roc_auc:.2f}\")"
   ]
  },
  {
   "cell_type": "code",
   "execution_count": null,
   "id": "029d6b21",
   "metadata": {},
   "outputs": [],
   "source": []
  },
  {
   "cell_type": "code",
   "execution_count": 41,
   "id": "bcfc8980",
   "metadata": {},
   "outputs": [
    {
     "name": "stdout",
     "output_type": "stream",
     "text": [
      "Accuracy: 0.83\n",
      "Classification Report:\n",
      "              precision    recall  f1-score   support\n",
      "\n",
      "           0       0.85      0.96      0.90       246\n",
      "           1       0.42      0.17      0.24        48\n",
      "\n",
      "    accuracy                           0.83       294\n",
      "   macro avg       0.64      0.56      0.57       294\n",
      "weighted avg       0.78      0.83      0.79       294\n",
      "\n",
      "Confusion Matrix:\n",
      "[[235  11]\n",
      " [ 40   8]]\n"
     ]
    },
    {
     "name": "stderr",
     "output_type": "stream",
     "text": [
      "C:\\Users\\LoKee\\anaconda3\\lib\\site-packages\\sklearn\\neighbors\\_classification.py:228: FutureWarning: Unlike other reduction functions (e.g. `skew`, `kurtosis`), the default behavior of `mode` typically preserves the axis it acts along. In SciPy 1.11.0, this behavior will change: the default value of `keepdims` will become False, the `axis` over which the statistic is taken will be eliminated, and the value None will no longer be accepted. Set `keepdims` to True or False to avoid this warning.\n",
      "  mode, _ = stats.mode(_y[neigh_ind, k], axis=1)\n"
     ]
    }
   ],
   "source": [
    "# k-NN classifier with k=3\n",
    "model = KNeighborsClassifier(n_neighbors=3)\n",
    "\n",
    "model.fit(a_train, b_train)\n",
    "\n",
    "b_pred = model.predict(a_test)\n",
    "\n",
    "# Printing the accuracy\n",
    "accuracy = accuracy_score(b_test, b_pred)\n",
    "print(f\"Accuracy: {accuracy:.2f}\")\n",
    "\n",
    "print(\"Classification Report:\")\n",
    "print(classification_report(b_test, b_pred))\n",
    "\n",
    "print(\"Confusion Matrix:\")\n",
    "print(confusion_matrix(b_test, b_pred))"
   ]
  },
  {
   "cell_type": "code",
   "execution_count": null,
   "id": "a09c2e7b",
   "metadata": {},
   "outputs": [],
   "source": []
  },
  {
   "cell_type": "code",
   "execution_count": 42,
   "id": "2e06a380",
   "metadata": {},
   "outputs": [
    {
     "name": "stdout",
     "output_type": "stream",
     "text": [
      "AUC-ROC Curve Value: 0.70\n"
     ]
    }
   ],
   "source": [
    "# AUC-ROC curve\n",
    "b_probs = model.predict_proba(a_test)[:, 1]\n",
    "\n",
    "roc_auc = roc_auc_score(b_test, b_probs)\n",
    "print(f\"AUC-ROC Curve Value: {roc_auc:.2f}\")"
   ]
  },
  {
   "cell_type": "code",
   "execution_count": null,
   "id": "d2abeeca",
   "metadata": {},
   "outputs": [],
   "source": []
  },
  {
   "cell_type": "code",
   "execution_count": 43,
   "id": "955bb5b0",
   "metadata": {},
   "outputs": [
    {
     "name": "stdout",
     "output_type": "stream",
     "text": [
      "Accuracy: 0.84\n",
      "Classification Report:\n",
      "              precision    recall  f1-score   support\n",
      "\n",
      "           0       0.99      0.68      0.81       236\n",
      "           1       0.77      0.99      0.87       258\n",
      "\n",
      "    accuracy                           0.84       494\n",
      "   macro avg       0.88      0.84      0.84       494\n",
      "weighted avg       0.88      0.84      0.84       494\n",
      "\n",
      "Confusion Matrix:\n",
      "[[161  75]\n",
      " [  2 256]]\n"
     ]
    },
    {
     "name": "stderr",
     "output_type": "stream",
     "text": [
      "C:\\Users\\LoKee\\anaconda3\\lib\\site-packages\\sklearn\\neighbors\\_classification.py:228: FutureWarning: Unlike other reduction functions (e.g. `skew`, `kurtosis`), the default behavior of `mode` typically preserves the axis it acts along. In SciPy 1.11.0, this behavior will change: the default value of `keepdims` will become False, the `axis` over which the statistic is taken will be eliminated, and the value None will no longer be accepted. Set `keepdims` to True or False to avoid this warning.\n",
      "  mode, _ = stats.mode(_y[neigh_ind, k], axis=1)\n"
     ]
    }
   ],
   "source": [
    "# k-NN classifier with k=3\n",
    "model = KNeighborsClassifier(n_neighbors=3)\n",
    "\n",
    "model.fit(X_train, y_train)\n",
    "\n",
    "y_pred = model.predict(X_test)\n",
    "\n",
    "# Printing the accuracy\n",
    "accuracy = accuracy_score(y_test, y_pred)\n",
    "print(f\"Accuracy: {accuracy:.2f}\")\n",
    "\n",
    "print(\"Classification Report:\")\n",
    "print(classification_report(y_test, y_pred))\n",
    "\n",
    "print(\"Confusion Matrix:\")\n",
    "print(confusion_matrix(y_test, y_pred))"
   ]
  },
  {
   "cell_type": "code",
   "execution_count": null,
   "id": "28d4e87c",
   "metadata": {},
   "outputs": [],
   "source": []
  },
  {
   "cell_type": "code",
   "execution_count": 44,
   "id": "00b3683a",
   "metadata": {},
   "outputs": [
    {
     "name": "stdout",
     "output_type": "stream",
     "text": [
      "AUC-ROC Curve Value: 0.92\n"
     ]
    }
   ],
   "source": [
    "# AUC-ROC curve\n",
    "y_probs = model.predict_proba(X_test)[:, 1]\n",
    "\n",
    "roc_auc = roc_auc_score(y_test, y_probs)\n",
    "print(f\"AUC-ROC Curve Value: {roc_auc:.2f}\")"
   ]
  },
  {
   "cell_type": "code",
   "execution_count": null,
   "id": "78d282e7",
   "metadata": {},
   "outputs": [],
   "source": []
  },
  {
   "cell_type": "code",
   "execution_count": 45,
   "id": "54909aac",
   "metadata": {},
   "outputs": [
    {
     "name": "stdout",
     "output_type": "stream",
     "text": [
      "Accuracy: 0.87\n",
      "Classification Report:\n",
      "              precision    recall  f1-score   support\n",
      "\n",
      "           0       0.89      0.97      0.93       246\n",
      "           1       0.70      0.40      0.51        48\n",
      "\n",
      "    accuracy                           0.87       294\n",
      "   macro avg       0.80      0.68      0.72       294\n",
      "weighted avg       0.86      0.87      0.86       294\n",
      "\n",
      "Confusion Matrix:\n",
      "[[238   8]\n",
      " [ 29  19]]\n"
     ]
    }
   ],
   "source": [
    "# AdaBoost classifier with estimators=50\n",
    "base_model = DecisionTreeClassifier(max_depth=1)\n",
    "model = AdaBoostClassifier(base_model, n_estimators=50)\n",
    "\n",
    "model.fit(a_train, b_train)\n",
    "\n",
    "b_pred = model.predict(a_test)\n",
    "\n",
    "# Printing the accuracy\n",
    "accuracy = accuracy_score(b_test, b_pred)\n",
    "print(f\"Accuracy: {accuracy:.2f}\")\n",
    "\n",
    "print(\"Classification Report:\")\n",
    "print(classification_report(b_test, b_pred))\n",
    "\n",
    "print(\"Confusion Matrix:\")\n",
    "print(confusion_matrix(b_test, b_pred))"
   ]
  },
  {
   "cell_type": "code",
   "execution_count": null,
   "id": "509ec21f",
   "metadata": {},
   "outputs": [],
   "source": []
  },
  {
   "cell_type": "code",
   "execution_count": 46,
   "id": "7ad4d46d",
   "metadata": {},
   "outputs": [
    {
     "name": "stdout",
     "output_type": "stream",
     "text": [
      "Cross Validation of the best performing model: AdaBoost\n",
      "Mean Accuracy: 0.8537414965986395\n",
      "Standard Deviation: 0.008049088140271558\n"
     ]
    }
   ],
   "source": [
    "# k-fold crossvalidation\n",
    "base_model = DecisionTreeClassifier(max_depth=1)\n",
    "model = AdaBoostClassifier(base_model, n_estimators=50)\n",
    "X_combined = np.vstack((a_train, a_test))\n",
    "y_combined = np.hstack((b_train, b_test))\n",
    "\n",
    "cv = StratifiedKFold(n_splits=5, shuffle=True, random_state=42)\n",
    "\n",
    "cross_val_results = cross_val_score(model, X_combined, y_combined, cv=cv, scoring='accuracy')\n",
    "\n",
    "# Printing the cross-validation results\n",
    "print(\"Cross Validation of the best performing model: AdaBoost\")\n",
    "print(\"Mean Accuracy:\", np.mean(cross_val_results))\n",
    "print(\"Standard Deviation:\", np.std(cross_val_results))"
   ]
  },
  {
   "cell_type": "code",
   "execution_count": null,
   "id": "ebc6b193",
   "metadata": {},
   "outputs": [],
   "source": []
  },
  {
   "cell_type": "code",
   "execution_count": null,
   "id": "8e3e1d82",
   "metadata": {},
   "outputs": [],
   "source": []
  },
  {
   "cell_type": "code",
   "execution_count": 47,
   "id": "772b29b6",
   "metadata": {},
   "outputs": [
    {
     "name": "stdout",
     "output_type": "stream",
     "text": [
      "Accuracy: 0.84\n",
      "Classification Report:\n",
      "              precision    recall  f1-score   support\n",
      "\n",
      "           0       0.85      0.82      0.83       236\n",
      "           1       0.84      0.87      0.85       258\n",
      "\n",
      "    accuracy                           0.84       494\n",
      "   macro avg       0.84      0.84      0.84       494\n",
      "weighted avg       0.84      0.84      0.84       494\n",
      "\n",
      "Confusion Matrix:\n",
      "[[193  43]\n",
      " [ 34 224]]\n"
     ]
    }
   ],
   "source": [
    "# AdaBoost classifier with estimators=50\n",
    "base_model = DecisionTreeClassifier(max_depth=1)\n",
    "model = AdaBoostClassifier(base_model, n_estimators=50)\n",
    "\n",
    "model.fit(X_train, y_train)\n",
    "\n",
    "y_pred = model.predict(X_test)\n",
    "\n",
    "# Printing the accuracy\n",
    "accuracy = accuracy_score(y_test, y_pred)\n",
    "print(f\"Accuracy: {accuracy:.2f}\")\n",
    "\n",
    "print(\"Classification Report:\")\n",
    "print(classification_report(y_test, y_pred))\n",
    "\n",
    "print(\"Confusion Matrix:\")\n",
    "print(confusion_matrix(y_test, y_pred))"
   ]
  },
  {
   "cell_type": "code",
   "execution_count": null,
   "id": "835337cf",
   "metadata": {},
   "outputs": [],
   "source": []
  },
  {
   "cell_type": "code",
   "execution_count": null,
   "id": "3d8773bf",
   "metadata": {},
   "outputs": [],
   "source": []
  },
  {
   "cell_type": "code",
   "execution_count": 48,
   "id": "0c4a261c",
   "metadata": {},
   "outputs": [
    {
     "name": "stdout",
     "output_type": "stream",
     "text": [
      "Accuracy: 0.86\n",
      "Classification Report:\n",
      "              precision    recall  f1-score   support\n",
      "\n",
      "           0       0.87      0.98      0.92       246\n",
      "           1       0.75      0.25      0.38        48\n",
      "\n",
      "    accuracy                           0.86       294\n",
      "   macro avg       0.81      0.62      0.65       294\n",
      "weighted avg       0.85      0.86      0.83       294\n",
      "\n",
      "Confusion Matrix:\n",
      "[[242   4]\n",
      " [ 36  12]]\n"
     ]
    }
   ],
   "source": [
    "# CatBoost classifier\n",
    "model = CatBoostClassifier(iterations=500, depth=6, learning_rate=0.1, verbose=0)\n",
    "\n",
    "model.fit(a_train, b_train)\n",
    "b_pred = model.predict(a_test)\n",
    "\n",
    "# Printing the accuracy\n",
    "accuracy = accuracy_score(b_test, b_pred)\n",
    "print(f\"Accuracy: {accuracy:.2f}\")\n",
    "\n",
    "print(\"Classification Report:\")\n",
    "print(classification_report(b_test, b_pred))\n",
    "\n",
    "print(\"Confusion Matrix:\")\n",
    "print(confusion_matrix(b_test, b_pred))"
   ]
  },
  {
   "cell_type": "code",
   "execution_count": null,
   "id": "c7720169",
   "metadata": {},
   "outputs": [],
   "source": []
  },
  {
   "cell_type": "code",
   "execution_count": 49,
   "id": "a5e2b86a",
   "metadata": {},
   "outputs": [
    {
     "name": "stdout",
     "output_type": "stream",
     "text": [
      "AUC-ROC Curve Value: 0.81\n"
     ]
    }
   ],
   "source": [
    "# AUC-ROC curve\n",
    "b_probs = model.predict_proba(a_test)[:, 1]\n",
    "\n",
    "roc_auc = roc_auc_score(b_test, b_probs)\n",
    "print(f\"AUC-ROC Curve Value: {roc_auc:.2f}\")"
   ]
  },
  {
   "cell_type": "code",
   "execution_count": null,
   "id": "62980f8c",
   "metadata": {},
   "outputs": [],
   "source": []
  },
  {
   "cell_type": "code",
   "execution_count": 50,
   "id": "2fe3c466",
   "metadata": {},
   "outputs": [
    {
     "name": "stdout",
     "output_type": "stream",
     "text": [
      "Accuracy: 0.95\n",
      "Classification Report:\n",
      "              precision    recall  f1-score   support\n",
      "\n",
      "           0       0.95      0.95      0.95       236\n",
      "           1       0.95      0.95      0.95       258\n",
      "\n",
      "    accuracy                           0.95       494\n",
      "   macro avg       0.95      0.95      0.95       494\n",
      "weighted avg       0.95      0.95      0.95       494\n",
      "\n",
      "Confusion Matrix:\n",
      "[[224  12]\n",
      " [ 13 245]]\n"
     ]
    }
   ],
   "source": [
    "# CatBoost classifier\n",
    "model = CatBoostClassifier(iterations=500, depth=6, learning_rate=0.1, verbose=0)\n",
    "\n",
    "model.fit(X_train, y_train)\n",
    "y_pred = model.predict(X_test)\n",
    "\n",
    "# Printing the accuracy\n",
    "accuracy = accuracy_score(y_test, y_pred)\n",
    "print(f\"Accuracy: {accuracy:.2f}\")\n",
    "\n",
    "print(\"Classification Report:\")\n",
    "print(classification_report(y_test, y_pred))\n",
    "\n",
    "print(\"Confusion Matrix:\")\n",
    "print(confusion_matrix(y_test, y_pred))"
   ]
  },
  {
   "cell_type": "code",
   "execution_count": null,
   "id": "37536fcc",
   "metadata": {},
   "outputs": [],
   "source": []
  },
  {
   "cell_type": "code",
   "execution_count": 51,
   "id": "24cf4c68",
   "metadata": {},
   "outputs": [
    {
     "name": "stdout",
     "output_type": "stream",
     "text": [
      "AUC-ROC Curve Value: 0.99\n"
     ]
    },
    {
     "data": {
      "image/png": "[encoded data removed]",
      "text/plain": [
       "<Figure size 800x600 with 1 Axes>"
      ]
     },
     "metadata": {},
     "output_type": "display_data"
    }
   ],
   "source": [
    "# AUC-ROC curve\n",
    "y_probs = model.predict_proba(X_test)[:, 1]\n",
    "\n",
    "roc_auc = roc_auc_score(y_test, y_probs)\n",
    "print(f\"AUC-ROC Curve Value: {roc_auc:.2f}\")\n",
    "\n",
    "# Plotting the ROC curve\n",
    "fpr, tpr, thresholds = roc_curve(y_test, y_probs)\n",
    "plt.figure(figsize=(8, 6))\n",
    "plt.plot(fpr, tpr, label=f'AUC = {roc_auc:.2f}')\n",
    "plt.plot([0, 1], [0, 1], 'k--')  # Diagonal line for reference\n",
    "plt.xlabel('False Positive Rate')\n",
    "plt.ylabel('True Positive Rate')\n",
    "plt.title('Receiver Operating Characteristic (ROC) Curve')\n",
    "plt.legend(loc='lower right')\n",
    "plt.show()"
   ]
  },
  {
   "cell_type": "code",
   "execution_count": null,
   "id": "deb1b52a",
   "metadata": {},
   "outputs": [],
   "source": []
  },
  {
   "cell_type": "code",
   "execution_count": 52,
   "id": "1cc3275e",
   "metadata": {},
   "outputs": [
    {
     "name": "stdout",
     "output_type": "stream",
     "text": [
      "Cross-Validation Results of our best performing model: CatBoost\n",
      "Individual Fold Scores: [0.90379747 0.9164557  0.91370558 0.88324873 0.92385787]\n",
      "Mean Accuracy: 0.9082130694596158\n",
      "Standard Deviation of Accuracy: 0.014039829490045954\n"
     ]
    }
   ],
   "source": [
    "#k-fold cross validation on the best performed model\n",
    "model = CatBoostClassifier(iterations=500, depth=6, learning_rate=0.1, verbose=0) \n",
    "\n",
    "k_folds = 5 \n",
    "\n",
    "stratified_kfold = StratifiedKFold(n_splits=k_folds, shuffle=True, random_state=42)\n",
    "\n",
    "# printing the results\n",
    "cross_val_results = cross_val_score(model, X_train, y_train, cv=stratified_kfold, scoring='accuracy')\n",
    "\n",
    "print(\"Cross-Validation Results of our best performing model: CatBoost\")\n",
    "print(\"Individual Fold Scores:\", cross_val_results)\n",
    "print(\"Mean Accuracy:\", cross_val_results.mean())\n",
    "print(\"Standard Deviation of Accuracy:\", cross_val_results.std())"
   ]
  },
  {
   "cell_type": "code",
   "execution_count": null,
   "id": "71926590",
   "metadata": {},
   "outputs": [],
   "source": []
  },
  {
   "cell_type": "code",
   "execution_count": null,
   "id": "cea9b63e",
   "metadata": {},
   "outputs": [],
   "source": []
  },
  {
   "cell_type": "code",
   "execution_count": null,
   "id": "09788561",
   "metadata": {},
   "outputs": [],
   "source": []
  },
  {
   "cell_type": "code",
   "execution_count": 53,
   "id": "981b7f67",
   "metadata": {
    "scrolled": false
   },
   "outputs": [
    {
     "name": "stdout",
     "output_type": "stream",
     "text": [
      "Accuracy: 0.84\n",
      "Classification Report:\n",
      "              precision    recall  f1-score   support\n",
      "\n",
      "           0       0.87      0.96      0.91       246\n",
      "           1       0.52      0.25      0.34        48\n",
      "\n",
      "    accuracy                           0.84       294\n",
      "   macro avg       0.69      0.60      0.62       294\n",
      "weighted avg       0.81      0.84      0.82       294\n",
      "\n",
      "Confusion Matrix:\n",
      "[[235  11]\n",
      " [ 36  12]]\n",
      "\n",
      "Feature Importance Scores:\n",
      "Feature_15: 0.1765\n",
      "Feature_19: 0.1056\n",
      "Feature_0: 0.0660\n",
      "Feature_1: 0.0565\n",
      "Feature_24: 0.0520\n",
      "Feature_7: 0.0504\n",
      "Feature_25: 0.0485\n",
      "Feature_10: 0.0473\n",
      "Feature_12: 0.0465\n",
      "Feature_9: 0.0356\n",
      "Feature_3: 0.0344\n",
      "Feature_13: 0.0339\n",
      "Feature_28: 0.0299\n",
      "Feature_17: 0.0292\n",
      "Feature_6: 0.0255\n",
      "Feature_30: 0.0248\n",
      "Feature_16: 0.0232\n",
      "Feature_31: 0.0209\n",
      "Feature_20: 0.0202\n",
      "Feature_14: 0.0180\n",
      "Feature_26: 0.0169\n",
      "Feature_22: 0.0134\n",
      "Feature_27: 0.0128\n",
      "Feature_8: 0.0034\n",
      "Feature_29: 0.0032\n",
      "Feature_11: 0.0029\n",
      "Feature_4: 0.0020\n",
      "Feature_2: 0.0004\n",
      "Feature_5: 0.0000\n",
      "Feature_18: 0.0000\n",
      "Feature_21: 0.0000\n",
      "Feature_23: 0.0000\n"
     ]
    }
   ],
   "source": [
    "# Gradient Boosting classifier\n",
    "model = GradientBoostingClassifier(n_estimators=100, learning_rate=0.1, max_depth=3, random_state=0)\n",
    "model.fit(a_train, b_train)\n",
    "b_pred = model.predict(a_test)\n",
    "\n",
    "# Printing the accuracy\n",
    "accuracy = accuracy_score(b_test, b_pred)\n",
    "print(f\"Accuracy: {accuracy:.2f}\")\n",
    "\n",
    "print(\"Classification Report:\")\n",
    "print(classification_report(b_test, b_pred))\n",
    "print(\"Confusion Matrix:\")\n",
    "print(confusion_matrix(b_test, b_pred))\n",
    "\n",
    "# feature importances\n",
    "feature_importances = model.feature_importances_\n",
    "\n",
    "num_features = a_train.shape[1]\n",
    "feature_names = [f\"Feature_{i}\" for i in range(num_features)]\n",
    "feature_importance_dict = dict(zip(feature_names, feature_importances))\n",
    "sorted_feature_importances = sorted(feature_importance_dict.items(), key=lambda x: x[1], reverse=True)\n",
    "\n",
    "# Printing the feature importance scores\n",
    "print(\"\\nFeature Importance Scores:\")\n",
    "for feature, importance in sorted_feature_importances:\n",
    "    print(f\"{feature}: {importance:.4f}\")"
   ]
  },
  {
   "cell_type": "code",
   "execution_count": null,
   "id": "8edc6299",
   "metadata": {},
   "outputs": [],
   "source": []
  },
  {
   "cell_type": "code",
   "execution_count": 54,
   "id": "88c5ec82",
   "metadata": {},
   "outputs": [
    {
     "name": "stdout",
     "output_type": "stream",
     "text": [
      "AUC-ROC Curve Value: 0.80\n"
     ]
    }
   ],
   "source": [
    "# AUC-ROC curve\n",
    "b_probs = model.predict_proba(a_test)[:, 1]\n",
    "roc_auc = roc_auc_score(b_test, b_probs)\n",
    "print(f\"AUC-ROC Curve Value: {roc_auc:.2f}\")"
   ]
  },
  {
   "cell_type": "code",
   "execution_count": null,
   "id": "ede71ee8",
   "metadata": {},
   "outputs": [],
   "source": []
  },
  {
   "cell_type": "code",
   "execution_count": 55,
   "id": "d551de57",
   "metadata": {},
   "outputs": [
    {
     "name": "stdout",
     "output_type": "stream",
     "text": [
      "Accuracy: 0.88\n",
      "Classification Report:\n",
      "              precision    recall  f1-score   support\n",
      "\n",
      "           0       0.87      0.88      0.88       236\n",
      "           1       0.89      0.88      0.88       258\n",
      "\n",
      "    accuracy                           0.88       494\n",
      "   macro avg       0.88      0.88      0.88       494\n",
      "weighted avg       0.88      0.88      0.88       494\n",
      "\n",
      "Confusion Matrix:\n",
      "[[208  28]\n",
      " [ 31 227]]\n",
      "\n",
      "Feature Importance Scores:\n",
      "Feature_24: 0.1563\n",
      "Feature_13: 0.1036\n",
      "Feature_7: 0.0756\n",
      "Feature_15: 0.0650\n",
      "Feature_10: 0.0647\n",
      "Feature_22: 0.0551\n",
      "Feature_31: 0.0411\n",
      "Feature_26: 0.0388\n",
      "Feature_27: 0.0385\n",
      "Feature_3: 0.0361\n",
      "Feature_11: 0.0332\n",
      "Feature_29: 0.0315\n",
      "Feature_1: 0.0295\n",
      "Feature_14: 0.0279\n",
      "Feature_19: 0.0252\n",
      "Feature_16: 0.0239\n",
      "Feature_25: 0.0233\n",
      "Feature_4: 0.0212\n",
      "Feature_6: 0.0211\n",
      "Feature_0: 0.0160\n",
      "Feature_30: 0.0142\n",
      "Feature_12: 0.0118\n",
      "Feature_20: 0.0094\n",
      "Feature_21: 0.0089\n",
      "Feature_17: 0.0087\n",
      "Feature_8: 0.0069\n",
      "Feature_28: 0.0052\n",
      "Feature_9: 0.0044\n",
      "Feature_2: 0.0027\n",
      "Feature_5: 0.0000\n",
      "Feature_18: 0.0000\n",
      "Feature_23: 0.0000\n"
     ]
    }
   ],
   "source": [
    "# Gradient Boosting classifier\n",
    "model = GradientBoostingClassifier(n_estimators=100, learning_rate=0.1, max_depth=3, random_state=0)\n",
    "model.fit(X_train, y_train)\n",
    "y_pred = model.predict(X_test)\n",
    "\n",
    "# Printing the accuracy\n",
    "accuracy = accuracy_score(y_test, y_pred)\n",
    "print(f\"Accuracy: {accuracy:.2f}\")\n",
    "\n",
    "print(\"Classification Report:\")\n",
    "print(classification_report(y_test, y_pred))\n",
    "print(\"Confusion Matrix:\")\n",
    "print(confusion_matrix(y_test, y_pred))\n",
    "\n",
    "# feature importances\n",
    "feature_importances = model.feature_importances_\n",
    "\n",
    "num_features = X_train.shape[1]\n",
    "feature_names = [f\"Feature_{i}\" for i in range(num_features)]\n",
    "feature_importance_dict = dict(zip(feature_names, feature_importances))\n",
    "sorted_feature_importances = sorted(feature_importance_dict.items(), key=lambda x: x[1], reverse=True)\n",
    "\n",
    "# Printing the feature importance scores\n",
    "print(\"\\nFeature Importance Scores:\")\n",
    "for feature, importance in sorted_feature_importances:\n",
    "    print(f\"{feature}: {importance:.4f}\")"
   ]
  },
  {
   "cell_type": "code",
   "execution_count": null,
   "id": "186c74a5",
   "metadata": {},
   "outputs": [],
   "source": []
  },
  {
   "cell_type": "code",
   "execution_count": 56,
   "id": "8ec2c0d4",
   "metadata": {},
   "outputs": [
    {
     "name": "stdout",
     "output_type": "stream",
     "text": [
      "AUC-ROC Curve Value: 0.96\n"
     ]
    }
   ],
   "source": [
    "# AUC-ROC curve\n",
    "y_probs = model.predict_proba(X_test)[:, 1]\n",
    "roc_auc = roc_auc_score(y_test, y_probs)\n",
    "print(f\"AUC-ROC Curve Value: {roc_auc:.2f}\")"
   ]
  },
  {
   "cell_type": "code",
   "execution_count": null,
   "id": "0a187bab",
   "metadata": {},
   "outputs": [],
   "source": []
  },
  {
   "cell_type": "code",
   "execution_count": 57,
   "id": "f0ec538c",
   "metadata": {},
   "outputs": [
    {
     "name": "stdout",
     "output_type": "stream",
     "text": [
      "Accuracy: 0.85\n",
      "Classification Report:\n",
      "              precision    recall  f1-score   support\n",
      "\n",
      "           0       0.88      0.96      0.92       246\n",
      "           1       0.60      0.31      0.41        48\n",
      "\n",
      "    accuracy                           0.85       294\n",
      "   macro avg       0.74      0.64      0.66       294\n",
      "weighted avg       0.83      0.85      0.83       294\n",
      "\n",
      "Confusion Matrix:\n",
      "[[236  10]\n",
      " [ 33  15]]\n",
      "\n",
      "Feature Importance Scores:\n",
      "f15: 0.0904\n",
      "f3: 0.0637\n",
      "f0: 0.0622\n",
      "f12: 0.0563\n",
      "f1: 0.0533\n",
      "f9: 0.0519\n",
      "f19: 0.0489\n",
      "f22: 0.0474\n",
      "f6: 0.0459\n",
      "f13: 0.0444\n",
      "f7: 0.0415\n",
      "f10: 0.0415\n",
      "f24: 0.0415\n",
      "f16: 0.0356\n",
      "f17: 0.0326\n",
      "f30: 0.0326\n",
      "f31: 0.0326\n",
      "f25: 0.0311\n",
      "f20: 0.0296\n",
      "f26: 0.0207\n",
      "f27: 0.0207\n",
      "f14: 0.0193\n",
      "f11: 0.0133\n",
      "f28: 0.0133\n",
      "f8: 0.0104\n",
      "f29: 0.0104\n",
      "f4: 0.0074\n",
      "f2: 0.0015\n"
     ]
    }
   ],
   "source": [
    "# XGBoost classifier\n",
    "model = xgb.XGBClassifier(n_estimators=100, learning_rate=0.1, max_depth=3, random_state=0)\n",
    "model.fit(a_train, b_train)\n",
    "b_pred = model.predict(a_test)\n",
    "\n",
    "# Printing the accuracy\n",
    "accuracy = accuracy_score(b_test, b_pred)\n",
    "print(f\"Accuracy: {accuracy:.2f}\")\n",
    "\n",
    "print(\"Classification Report:\")\n",
    "print(classification_report(b_test, b_pred))\n",
    "print(\"Confusion Matrix:\")\n",
    "print(confusion_matrix(b_test, b_pred))\n",
    "\n",
    "# feature importance\n",
    "importances = model.get_booster().get_score(importance_type='weight')\n",
    "total_importance = sum(importances.values())\n",
    "normalized_importances = {key: value/total_importance for key, value in importances.items()}\n",
    "sorted_importances = sorted(normalized_importances.items(), key=lambda x: x[1], reverse=True)\n",
    "\n",
    "# Printing the feature importance scores\n",
    "print(\"\\nFeature Importance Scores:\")\n",
    "for feature, importance in sorted_importances:\n",
    "    print(f\"{feature}: {importance:.4f}\")"
   ]
  },
  {
   "cell_type": "code",
   "execution_count": null,
   "id": "e8e6edd8",
   "metadata": {},
   "outputs": [],
   "source": []
  },
  {
   "cell_type": "code",
   "execution_count": 58,
   "id": "b2c339c6",
   "metadata": {},
   "outputs": [
    {
     "name": "stdout",
     "output_type": "stream",
     "text": [
      "AUC-ROC Curve Value: 0.79\n"
     ]
    }
   ],
   "source": [
    "# AUC-ROC curve\n",
    "b_probs = model.predict_proba(a_test)[:, 1]\n",
    "roc_auc = roc_auc_score(b_test, b_probs)\n",
    "print(f\"AUC-ROC Curve Value: {roc_auc:.2f}\")"
   ]
  },
  {
   "cell_type": "code",
   "execution_count": null,
   "id": "89810e7f",
   "metadata": {},
   "outputs": [],
   "source": []
  },
  {
   "cell_type": "code",
   "execution_count": 59,
   "id": "e376dcb2",
   "metadata": {},
   "outputs": [
    {
     "name": "stdout",
     "output_type": "stream",
     "text": [
      "Accuracy: 0.88\n",
      "Classification Report:\n",
      "              precision    recall  f1-score   support\n",
      "\n",
      "           0       0.87      0.87      0.87       236\n",
      "           1       0.88      0.88      0.88       258\n",
      "\n",
      "    accuracy                           0.88       494\n",
      "   macro avg       0.88      0.88      0.88       494\n",
      "weighted avg       0.88      0.88      0.88       494\n",
      "\n",
      "Confusion Matrix:\n",
      "[[205  31]\n",
      " [ 30 228]]\n",
      "\n",
      "Feature Importance Scores:\n",
      "f15: 0.0855\n",
      "f1: 0.0739\n",
      "f3: 0.0681\n",
      "f7: 0.0507\n",
      "f10: 0.0507\n",
      "f6: 0.0493\n",
      "f16: 0.0435\n",
      "f13: 0.0420\n",
      "f31: 0.0420\n",
      "f26: 0.0406\n",
      "f0: 0.0391\n",
      "f30: 0.0348\n",
      "f12: 0.0333\n",
      "f19: 0.0333\n",
      "f27: 0.0333\n",
      "f22: 0.0304\n",
      "f24: 0.0304\n",
      "f29: 0.0290\n",
      "f20: 0.0275\n",
      "f28: 0.0261\n",
      "f9: 0.0203\n",
      "f17: 0.0203\n",
      "f25: 0.0203\n",
      "f4: 0.0188\n",
      "f8: 0.0159\n",
      "f14: 0.0159\n",
      "f11: 0.0130\n",
      "f21: 0.0101\n",
      "f2: 0.0014\n"
     ]
    }
   ],
   "source": [
    "# XGBoost classifier\n",
    "model = xgb.XGBClassifier(n_estimators=100, learning_rate=0.1, max_depth=3, random_state=0) \n",
    "\n",
    "model.fit(X_train, y_train)\n",
    "y_pred = model.predict(X_test)\n",
    "\n",
    "# Printing the accuracy\n",
    "accuracy = accuracy_score(y_test, y_pred)\n",
    "print(f\"Accuracy: {accuracy:.2f}\")\n",
    "\n",
    "print(\"Classification Report:\")\n",
    "print(classification_report(y_test, y_pred))\n",
    "print(\"Confusion Matrix:\")\n",
    "print(confusion_matrix(y_test, y_pred))\n",
    "\n",
    "# feature importance\n",
    "importances = model.get_booster().get_score(importance_type='weight')\n",
    "total_importance = sum(importances.values())\n",
    "normalized_importances = {key: value/total_importance for key, value in importances.items()}\n",
    "sorted_importances = sorted(normalized_importances.items(), key=lambda x: x[1], reverse=True)\n",
    "\n",
    "# Printing the feature importance scores\n",
    "print(\"\\nFeature Importance Scores:\")\n",
    "for feature, importance in sorted_importances:\n",
    "    print(f\"{feature}: {importance:.4f}\")"
   ]
  },
  {
   "cell_type": "code",
   "execution_count": null,
   "id": "a7a65a62",
   "metadata": {},
   "outputs": [],
   "source": []
  },
  {
   "cell_type": "code",
   "execution_count": 60,
   "id": "fae15e27",
   "metadata": {},
   "outputs": [
    {
     "name": "stdout",
     "output_type": "stream",
     "text": [
      "AUC-ROC Curve Value: 0.96\n"
     ]
    }
   ],
   "source": [
    "# AUC-ROC curve\n",
    "y_probs = model.predict_proba(X_test)[:, 1]\n",
    "roc_auc = roc_auc_score(y_test, y_probs)\n",
    "print(f\"AUC-ROC Curve Value: {roc_auc:.2f}\")"
   ]
  },
  {
   "cell_type": "code",
   "execution_count": null,
   "id": "6a6c4705",
   "metadata": {},
   "outputs": [],
   "source": []
  }
 ],
 "metadata": {
  "kernelspec": {
   "display_name": "Python 3 (ipykernel)",
   "language": "python",
   "name": "python3"
  },
  "language_info": {
   "codemirror_mode": {
    "name": "ipython",
    "version": 3
   },
   "file_extension": ".py",
   "mimetype": "text/x-python",
   "name": "python",
   "nbconvert_exporter": "python",
   "pygments_lexer": "ipython3",
   "version": "3.9.13"
  }
 },
 "nbformat": 4,
 "nbformat_minor": 5
}
